{
 "cells": [
  {
   "cell_type": "markdown",
   "metadata": {},
   "source": [
    "# How do you work through a predictive modeling machine learning problem end-to-end?"
   ]
  },
  {
   "cell_type": "markdown",
   "metadata": {},
   "source": [
    "In this case study, we will work through a regression predictive modeling problem in Python including each step of the machine learning process. After completing this project, we will know:\n",
    "\n",
    "1. How to work through a regression predictive modeling problem end-to-end\n",
    "2. How to use data transforms to improve model performance\n",
    "3. How to use algorithm tuning to improve model performance\n",
    "4. How to use ensemble methods and tuning of ensemble methods to improve model performance"
   ]
  },
  {
   "cell_type": "markdown",
   "metadata": {},
   "source": [
    "## Machine Learning Project Template\n",
    "#### 1. Prepare Problem\n",
    "###### 1.1. Load libraries\n",
    "###### 1.2. Load dataset\n",
    "\n",
    "##### 2. Summarize Data\n",
    "###### 2.1. Descriptive statistics\n",
    "###### 2.2. Data visualizations\n",
    "\n",
    "##### 3. Prepare Data\n",
    "###### 3.1. Data Cleaning\n",
    "###### 3.2. Feature Selection\n",
    "###### 3.3. Data Transforms\n",
    "\n",
    "##### 4. Evaluate Algorithms\n",
    "###### 4.1. Split-out validation dataset\n",
    "###### 4.2. Test options and test metric\n",
    "###### 4.3. Spot Check Algorithms\n",
    "###### 4.4. Compare Algorithms\n",
    "\n",
    "##### 5. Improve Accuracy\n",
    "###### 5.1. Algorithm Tuning\n",
    "###### 5.2. Ensembles\n",
    "\n",
    "##### 6. Finalize Model\n",
    "###### 6.1. Predictions on validation dataset\n",
    "###### 6.2. Create standalone model on entire training dataset\n",
    "###### 6.3. Save model for later use"
   ]
  },
  {
   "cell_type": "markdown",
   "metadata": {},
   "source": [
    "# Problem Definition"
   ]
  },
  {
   "cell_type": "markdown",
   "metadata": {},
   "source": [
    "For this case study, we will investigate the Boston House Price dataset. \n",
    "\n",
    "Each record in the database describes a Boston suburb or town. \n",
    "\n",
    "The data was drawn from the Boston Standard Metropolitan Statistical Area (SMSA) in 1970. \n",
    "\n",
    "The attributes are defined as follows (taken from the UCI Machine Learning Repository1):\n",
    "\n",
    "1. CRIM: per capita crime rate by town\n",
    "2. ZN: proportion of residential land zoned for lots over 25,000 sq.ft.\n",
    "3. INDUS: proportion of non-retail business acres per town\n",
    "4. CHAS: Charles River dummy variable (= 1 if tract bounds river; 0 otherwise)\n",
    "5. NOX: nitric oxides concentration (parts per 10 million)\n",
    "6. RM: average number of rooms per dwelling\n",
    "7. AGE: proportion of owner-occupied units built prior to 1940\n",
    "8. DIS: weighted distances to Boston employment centers\n",
    "9. RAD: index of accessibility to radial highways\n",
    "10. TAX: full-value property-tax rate per 10,000 US Dollars\n",
    "11. PTRATIO: pupil-teacher ratio by town\n",
    "12. B: 1000(Bk - 0:63)^2 where Bk is the proportion of blacks by town\n",
    "13. LSTAT: % lower status of the population\n",
    "14. MEDV: Median value of owner-occupied homes in 1000s of US Dollars"
   ]
  },
  {
   "cell_type": "markdown",
   "metadata": {},
   "source": [
    "We can see that the input attributes have a mixture of units."
   ]
  },
  {
   "cell_type": "code",
   "execution_count": 27,
   "metadata": {},
   "outputs": [],
   "source": [
    "# Load libraries\n",
    "import numpy\n",
    "from numpy import arange\n",
    "from matplotlib import pyplot\n",
    "import pandas as pd\n",
    "from pandas import read_csv\n",
    "from pandas import set_option\n",
    "from pandas.plotting import scatter_matrix\n",
    "import seaborn as sn\n",
    "from sklearn.preprocessing import StandardScaler\n",
    "from sklearn.model_selection import train_test_split\n",
    "from sklearn.model_selection import KFold\n",
    "from sklearn.model_selection import cross_val_score\n",
    "from sklearn.model_selection import GridSearchCV\n",
    "from sklearn.linear_model import LinearRegression\n",
    "from sklearn.tree import DecisionTreeRegressor\n",
    "from sklearn.neighbors import KNeighborsRegressor\n",
    "from sklearn.pipeline import Pipeline\n",
    "from sklearn.ensemble import RandomForestRegressor\n",
    "from sklearn.ensemble import AdaBoostRegressor\n",
    "from sklearn.metrics import mean_squared_error\n",
    "%matplotlib inline\n",
    "\n",
    "import warnings\n",
    "warnings.filterwarnings('ignore')"
   ]
  },
  {
   "cell_type": "code",
   "execution_count": 28,
   "metadata": {},
   "outputs": [],
   "source": [
    "# Load dataset\n",
    "filename = 'C://Users//Ramya//Downloads//housing.csv'\n",
    "names = ['CRIM', 'ZN', 'INDUS', 'CHAS', 'NOX', 'RM', 'AGE', 'DIS', 'RAD', 'TAX', 'PTRATIO', 'B', 'LSTAT', 'MEDV']\n",
    "dataset = read_csv(filename, delim_whitespace=True, names=names) #when data is not separated by columns but by whitespace"
   ]
  },
  {
   "cell_type": "markdown",
   "metadata": {},
   "source": [
    "We can see that we are specifying the short names for each attribute so that we can reference them clearly later. \n",
    "\n",
    "We can also see that attributes are delimited by whitespace rather than commas in this file and we indicate this to read_csv() function via the delim whitespace argument. \n",
    "\n",
    "We now have our data loaded."
   ]
  },
  {
   "cell_type": "markdown",
   "metadata": {},
   "source": [
    "# Analyze Data"
   ]
  },
  {
   "cell_type": "markdown",
   "metadata": {},
   "source": [
    "We can now take a closer look at our loaded data"
   ]
  },
  {
   "cell_type": "markdown",
   "metadata": {},
   "source": [
    "## Descriptive Statistics"
   ]
  },
  {
   "cell_type": "markdown",
   "metadata": {},
   "source": [
    "Let's start off by confirming the dimensions of the dataset, e.g. the number of rows and columns."
   ]
  },
  {
   "cell_type": "code",
   "execution_count": 29,
   "metadata": {},
   "outputs": [
    {
     "name": "stdout",
     "output_type": "stream",
     "text": [
      "(506, 14)\n"
     ]
    }
   ],
   "source": [
    "# shape\n",
    "print(dataset.shape)"
   ]
  },
  {
   "cell_type": "markdown",
   "metadata": {},
   "source": [
    "We have 506 instances to work with and can confirm the data has 14 attributes including the output attribute MEDV."
   ]
  },
  {
   "cell_type": "markdown",
   "metadata": {},
   "source": [
    "Let's also look at the data types of each attribute."
   ]
  },
  {
   "cell_type": "code",
   "execution_count": 30,
   "metadata": {},
   "outputs": [
    {
     "name": "stdout",
     "output_type": "stream",
     "text": [
      "CRIM       float64\n",
      "ZN         float64\n",
      "INDUS      float64\n",
      "CHAS         int64\n",
      "NOX        float64\n",
      "RM         float64\n",
      "AGE        float64\n",
      "DIS        float64\n",
      "RAD          int64\n",
      "TAX        float64\n",
      "PTRATIO    float64\n",
      "B          float64\n",
      "LSTAT      float64\n",
      "MEDV       float64\n",
      "dtype: object\n"
     ]
    }
   ],
   "source": [
    "# types\n",
    "print(dataset.dtypes)"
   ]
  },
  {
   "cell_type": "markdown",
   "metadata": {},
   "source": [
    "We can see that all of the attributes are numeric, mostly real values (float) and some have been interpreted as integers (int)."
   ]
  },
  {
   "cell_type": "markdown",
   "metadata": {},
   "source": [
    "Let's now take a peek at the first 5 rows of the data"
   ]
  },
  {
   "cell_type": "code",
   "execution_count": 31,
   "metadata": {},
   "outputs": [
    {
     "name": "stdout",
     "output_type": "stream",
     "text": [
      "      CRIM    ZN  INDUS  CHAS    NOX     RM   AGE     DIS  RAD    TAX  \\\n",
      "0  0.00632  18.0   2.31     0  0.538  6.575  65.2  4.0900    1  296.0   \n",
      "1  0.02731   0.0   7.07     0  0.469  6.421  78.9  4.9671    2  242.0   \n",
      "2  0.02729   0.0   7.07     0  0.469  7.185  61.1  4.9671    2  242.0   \n",
      "3  0.03237   0.0   2.18     0  0.458  6.998  45.8  6.0622    3  222.0   \n",
      "4  0.06905   0.0   2.18     0  0.458  7.147  54.2  6.0622    3  222.0   \n",
      "\n",
      "   PTRATIO       B  LSTAT  MEDV  \n",
      "0     15.3  396.90   4.98  24.0  \n",
      "1     17.8  396.90   9.14  21.6  \n",
      "2     17.8  392.83   4.03  34.7  \n",
      "3     18.7  394.63   2.94  33.4  \n",
      "4     18.7  396.90   5.33  36.2  \n"
     ]
    }
   ],
   "source": [
    "# head\n",
    "print(dataset.head(5))"
   ]
  },
  {
   "cell_type": "markdown",
   "metadata": {},
   "source": [
    "We can confirm that the scales for the attributes are all over the place because of the differing units. We may benefit from some transforms later on."
   ]
  },
  {
   "cell_type": "markdown",
   "metadata": {},
   "source": [
    "Let's summarize the distribution of each attribute."
   ]
  },
  {
   "cell_type": "code",
   "execution_count": 32,
   "metadata": {},
   "outputs": [
    {
     "data": {
      "text/html": [
       "<div>\n",
       "<style scoped>\n",
       "    .dataframe tbody tr th:only-of-type {\n",
       "        vertical-align: middle;\n",
       "    }\n",
       "\n",
       "    .dataframe tbody tr th {\n",
       "        vertical-align: top;\n",
       "    }\n",
       "\n",
       "    .dataframe thead th {\n",
       "        text-align: right;\n",
       "    }\n",
       "</style>\n",
       "<table border=\"1\" class=\"dataframe\">\n",
       "  <thead>\n",
       "    <tr style=\"text-align: right;\">\n",
       "      <th></th>\n",
       "      <th>count</th>\n",
       "      <th>mean</th>\n",
       "      <th>std</th>\n",
       "      <th>min</th>\n",
       "      <th>25%</th>\n",
       "      <th>50%</th>\n",
       "      <th>75%</th>\n",
       "      <th>max</th>\n",
       "    </tr>\n",
       "  </thead>\n",
       "  <tbody>\n",
       "    <tr>\n",
       "      <th>CRIM</th>\n",
       "      <td>506.0</td>\n",
       "      <td>3.613524</td>\n",
       "      <td>8.601545</td>\n",
       "      <td>0.00632</td>\n",
       "      <td>0.082045</td>\n",
       "      <td>0.25651</td>\n",
       "      <td>3.677082</td>\n",
       "      <td>88.9762</td>\n",
       "    </tr>\n",
       "    <tr>\n",
       "      <th>ZN</th>\n",
       "      <td>506.0</td>\n",
       "      <td>11.363636</td>\n",
       "      <td>23.322453</td>\n",
       "      <td>0.00000</td>\n",
       "      <td>0.000000</td>\n",
       "      <td>0.00000</td>\n",
       "      <td>12.500000</td>\n",
       "      <td>100.0000</td>\n",
       "    </tr>\n",
       "    <tr>\n",
       "      <th>INDUS</th>\n",
       "      <td>506.0</td>\n",
       "      <td>11.136779</td>\n",
       "      <td>6.860353</td>\n",
       "      <td>0.46000</td>\n",
       "      <td>5.190000</td>\n",
       "      <td>9.69000</td>\n",
       "      <td>18.100000</td>\n",
       "      <td>27.7400</td>\n",
       "    </tr>\n",
       "    <tr>\n",
       "      <th>CHAS</th>\n",
       "      <td>506.0</td>\n",
       "      <td>0.069170</td>\n",
       "      <td>0.253994</td>\n",
       "      <td>0.00000</td>\n",
       "      <td>0.000000</td>\n",
       "      <td>0.00000</td>\n",
       "      <td>0.000000</td>\n",
       "      <td>1.0000</td>\n",
       "    </tr>\n",
       "    <tr>\n",
       "      <th>NOX</th>\n",
       "      <td>506.0</td>\n",
       "      <td>0.554695</td>\n",
       "      <td>0.115878</td>\n",
       "      <td>0.38500</td>\n",
       "      <td>0.449000</td>\n",
       "      <td>0.53800</td>\n",
       "      <td>0.624000</td>\n",
       "      <td>0.8710</td>\n",
       "    </tr>\n",
       "    <tr>\n",
       "      <th>RM</th>\n",
       "      <td>506.0</td>\n",
       "      <td>6.284634</td>\n",
       "      <td>0.702617</td>\n",
       "      <td>3.56100</td>\n",
       "      <td>5.885500</td>\n",
       "      <td>6.20850</td>\n",
       "      <td>6.623500</td>\n",
       "      <td>8.7800</td>\n",
       "    </tr>\n",
       "    <tr>\n",
       "      <th>AGE</th>\n",
       "      <td>506.0</td>\n",
       "      <td>68.574901</td>\n",
       "      <td>28.148861</td>\n",
       "      <td>2.90000</td>\n",
       "      <td>45.025000</td>\n",
       "      <td>77.50000</td>\n",
       "      <td>94.075000</td>\n",
       "      <td>100.0000</td>\n",
       "    </tr>\n",
       "    <tr>\n",
       "      <th>DIS</th>\n",
       "      <td>506.0</td>\n",
       "      <td>3.795043</td>\n",
       "      <td>2.105710</td>\n",
       "      <td>1.12960</td>\n",
       "      <td>2.100175</td>\n",
       "      <td>3.20745</td>\n",
       "      <td>5.188425</td>\n",
       "      <td>12.1265</td>\n",
       "    </tr>\n",
       "    <tr>\n",
       "      <th>RAD</th>\n",
       "      <td>506.0</td>\n",
       "      <td>9.549407</td>\n",
       "      <td>8.707259</td>\n",
       "      <td>1.00000</td>\n",
       "      <td>4.000000</td>\n",
       "      <td>5.00000</td>\n",
       "      <td>24.000000</td>\n",
       "      <td>24.0000</td>\n",
       "    </tr>\n",
       "    <tr>\n",
       "      <th>TAX</th>\n",
       "      <td>506.0</td>\n",
       "      <td>408.237154</td>\n",
       "      <td>168.537116</td>\n",
       "      <td>187.00000</td>\n",
       "      <td>279.000000</td>\n",
       "      <td>330.00000</td>\n",
       "      <td>666.000000</td>\n",
       "      <td>711.0000</td>\n",
       "    </tr>\n",
       "    <tr>\n",
       "      <th>PTRATIO</th>\n",
       "      <td>506.0</td>\n",
       "      <td>18.455534</td>\n",
       "      <td>2.164946</td>\n",
       "      <td>12.60000</td>\n",
       "      <td>17.400000</td>\n",
       "      <td>19.05000</td>\n",
       "      <td>20.200000</td>\n",
       "      <td>22.0000</td>\n",
       "    </tr>\n",
       "    <tr>\n",
       "      <th>B</th>\n",
       "      <td>506.0</td>\n",
       "      <td>356.674032</td>\n",
       "      <td>91.294864</td>\n",
       "      <td>0.32000</td>\n",
       "      <td>375.377500</td>\n",
       "      <td>391.44000</td>\n",
       "      <td>396.225000</td>\n",
       "      <td>396.9000</td>\n",
       "    </tr>\n",
       "    <tr>\n",
       "      <th>LSTAT</th>\n",
       "      <td>506.0</td>\n",
       "      <td>12.653063</td>\n",
       "      <td>7.141062</td>\n",
       "      <td>1.73000</td>\n",
       "      <td>6.950000</td>\n",
       "      <td>11.36000</td>\n",
       "      <td>16.955000</td>\n",
       "      <td>37.9700</td>\n",
       "    </tr>\n",
       "    <tr>\n",
       "      <th>MEDV</th>\n",
       "      <td>506.0</td>\n",
       "      <td>22.532806</td>\n",
       "      <td>9.197104</td>\n",
       "      <td>5.00000</td>\n",
       "      <td>17.025000</td>\n",
       "      <td>21.20000</td>\n",
       "      <td>25.000000</td>\n",
       "      <td>50.0000</td>\n",
       "    </tr>\n",
       "  </tbody>\n",
       "</table>\n",
       "</div>"
      ],
      "text/plain": [
       "         count        mean         std        min         25%        50%  \\\n",
       "CRIM     506.0    3.613524    8.601545    0.00632    0.082045    0.25651   \n",
       "ZN       506.0   11.363636   23.322453    0.00000    0.000000    0.00000   \n",
       "INDUS    506.0   11.136779    6.860353    0.46000    5.190000    9.69000   \n",
       "CHAS     506.0    0.069170    0.253994    0.00000    0.000000    0.00000   \n",
       "NOX      506.0    0.554695    0.115878    0.38500    0.449000    0.53800   \n",
       "RM       506.0    6.284634    0.702617    3.56100    5.885500    6.20850   \n",
       "AGE      506.0   68.574901   28.148861    2.90000   45.025000   77.50000   \n",
       "DIS      506.0    3.795043    2.105710    1.12960    2.100175    3.20745   \n",
       "RAD      506.0    9.549407    8.707259    1.00000    4.000000    5.00000   \n",
       "TAX      506.0  408.237154  168.537116  187.00000  279.000000  330.00000   \n",
       "PTRATIO  506.0   18.455534    2.164946   12.60000   17.400000   19.05000   \n",
       "B        506.0  356.674032   91.294864    0.32000  375.377500  391.44000   \n",
       "LSTAT    506.0   12.653063    7.141062    1.73000    6.950000   11.36000   \n",
       "MEDV     506.0   22.532806    9.197104    5.00000   17.025000   21.20000   \n",
       "\n",
       "                75%       max  \n",
       "CRIM       3.677082   88.9762  \n",
       "ZN        12.500000  100.0000  \n",
       "INDUS     18.100000   27.7400  \n",
       "CHAS       0.000000    1.0000  \n",
       "NOX        0.624000    0.8710  \n",
       "RM         6.623500    8.7800  \n",
       "AGE       94.075000  100.0000  \n",
       "DIS        5.188425   12.1265  \n",
       "RAD       24.000000   24.0000  \n",
       "TAX      666.000000  711.0000  \n",
       "PTRATIO   20.200000   22.0000  \n",
       "B        396.225000  396.9000  \n",
       "LSTAT     16.955000   37.9700  \n",
       "MEDV      25.000000   50.0000  "
      ]
     },
     "execution_count": 32,
     "metadata": {},
     "output_type": "execute_result"
    }
   ],
   "source": [
    "# descriptions\n",
    "dataset.describe().T"
   ]
  },
  {
   "cell_type": "markdown",
   "metadata": {},
   "source": [
    "We now have a better feeling for how different the attributes are. \n",
    "\n",
    "The min and max values and also the means vary a lot. \n",
    "\n",
    "We are likely going to get better results by rescaling the data in some way."
   ]
  },
  {
   "cell_type": "markdown",
   "metadata": {},
   "source": [
    "###  Let's now take a look at the correlation between all of the numeric attributes."
   ]
  },
  {
   "cell_type": "code",
   "execution_count": 33,
   "metadata": {},
   "outputs": [
    {
     "name": "stdout",
     "output_type": "stream",
     "text": [
      "             CRIM        ZN     INDUS      CHAS       NOX        RM       AGE  \\\n",
      "CRIM     1.000000 -0.200469  0.406583 -0.055892  0.420972 -0.219247  0.352734   \n",
      "ZN      -0.200469  1.000000 -0.533828 -0.042697 -0.516604  0.311991 -0.569537   \n",
      "INDUS    0.406583 -0.533828  1.000000  0.062938  0.763651 -0.391676  0.644779   \n",
      "CHAS    -0.055892 -0.042697  0.062938  1.000000  0.091203  0.091251  0.086518   \n",
      "NOX      0.420972 -0.516604  0.763651  0.091203  1.000000 -0.302188  0.731470   \n",
      "RM      -0.219247  0.311991 -0.391676  0.091251 -0.302188  1.000000 -0.240265   \n",
      "AGE      0.352734 -0.569537  0.644779  0.086518  0.731470 -0.240265  1.000000   \n",
      "DIS     -0.379670  0.664408 -0.708027 -0.099176 -0.769230  0.205246 -0.747881   \n",
      "RAD      0.625505 -0.311948  0.595129 -0.007368  0.611441 -0.209847  0.456022   \n",
      "TAX      0.582764 -0.314563  0.720760 -0.035587  0.668023 -0.292048  0.506456   \n",
      "PTRATIO  0.289946 -0.391679  0.383248 -0.121515  0.188933 -0.355501  0.261515   \n",
      "B       -0.385064  0.175520 -0.356977  0.048788 -0.380051  0.128069 -0.273534   \n",
      "LSTAT    0.455621 -0.412995  0.603800 -0.053929  0.590879 -0.613808  0.602339   \n",
      "MEDV    -0.388305  0.360445 -0.483725  0.175260 -0.427321  0.695360 -0.376955   \n",
      "\n",
      "              DIS       RAD       TAX   PTRATIO         B     LSTAT      MEDV  \n",
      "CRIM    -0.379670  0.625505  0.582764  0.289946 -0.385064  0.455621 -0.388305  \n",
      "ZN       0.664408 -0.311948 -0.314563 -0.391679  0.175520 -0.412995  0.360445  \n",
      "INDUS   -0.708027  0.595129  0.720760  0.383248 -0.356977  0.603800 -0.483725  \n",
      "CHAS    -0.099176 -0.007368 -0.035587 -0.121515  0.048788 -0.053929  0.175260  \n",
      "NOX     -0.769230  0.611441  0.668023  0.188933 -0.380051  0.590879 -0.427321  \n",
      "RM       0.205246 -0.209847 -0.292048 -0.355501  0.128069 -0.613808  0.695360  \n",
      "AGE     -0.747881  0.456022  0.506456  0.261515 -0.273534  0.602339 -0.376955  \n",
      "DIS      1.000000 -0.494588 -0.534432 -0.232471  0.291512 -0.496996  0.249929  \n",
      "RAD     -0.494588  1.000000  0.910228  0.464741 -0.444413  0.488676 -0.381626  \n",
      "TAX     -0.534432  0.910228  1.000000  0.460853 -0.441808  0.543993 -0.468536  \n",
      "PTRATIO -0.232471  0.464741  0.460853  1.000000 -0.177383  0.374044 -0.507787  \n",
      "B        0.291512 -0.444413 -0.441808 -0.177383  1.000000 -0.366087  0.333461  \n",
      "LSTAT   -0.496996  0.488676  0.543993  0.374044 -0.366087  1.000000 -0.737663  \n",
      "MEDV     0.249929 -0.381626 -0.468536 -0.507787  0.333461 -0.737663  1.000000  \n"
     ]
    }
   ],
   "source": [
    "# correlation\n",
    "print(dataset.corr(method='pearson'))"
   ]
  },
  {
   "cell_type": "code",
   "execution_count": 34,
   "metadata": {},
   "outputs": [
    {
     "data": {
      "text/plain": [
       "<matplotlib.axes._subplots.AxesSubplot at 0x2bf064f03c8>"
      ]
     },
     "execution_count": 34,
     "metadata": {},
     "output_type": "execute_result"
    },
    {
     "data": {
      "image/png": "[encoded data removed]",
      "text/plain": [
       "<Figure size 720x720 with 2 Axes>"
      ]
     },
     "metadata": {},
     "output_type": "display_data"
    }
   ],
   "source": [
    "corrmat = dataset.corr(method='pearson')\n",
    "f, ax = pyplot.subplots(figsize = (10,10))\n",
    "sn.heatmap(corrmat, vmax=0.8, square=True, annot=True)"
   ]
  },
  {
   "cell_type": "markdown",
   "metadata": {},
   "source": [
    "This is interesting. We can see that many of the attributes have a strong correlation:\n",
    "Example: > 0:70 or < - 0:70 \n",
    "\n",
    "For example:\n",
    "\n",
    "1. NOX and INDUS with 0.77\n",
    "2. DIS and INDUS with -0.71\n",
    "3. TAX and INDUS with 0.72\n",
    "4. AGE and NOX with 0.73\n",
    "5. DIS and NOX with -0.78\n",
    "\n",
    "It also looks like LSTAT has a good negative correlation with the output variable MEDV with a value of -0.74"
   ]
  },
  {
   "cell_type": "markdown",
   "metadata": {},
   "source": [
    "# Data Visualizations"
   ]
  },
  {
   "cell_type": "markdown",
   "metadata": {},
   "source": [
    "Look at the data with box and whisker plots of each attribute."
   ]
  },
  {
   "cell_type": "code",
   "execution_count": 10,
   "metadata": {},
   "outputs": [
    {
     "data": {
      "image/png": "[encoded data removed]",
      "text/plain": [
       "<Figure size 1008x1008 with 16 Axes>"
      ]
     },
     "metadata": {},
     "output_type": "display_data"
    }
   ],
   "source": [
    "# box and whisker plots\n",
    "dataset.plot(kind='box', subplots=True, layout=(4,4), fontsize=8, figsize=(14,14))\n",
    "pyplot.show()"
   ]
  },
  {
   "cell_type": "markdown",
   "metadata": {},
   "source": [
    "This helps point out the skew in many distributions so much so that data looks like outliers (e.g. beyond the whisker of the plots)."
   ]
  },
  {
   "cell_type": "markdown",
   "metadata": {},
   "source": [
    "# Summary of Ideas"
   ]
  },
  {
   "cell_type": "markdown",
   "metadata": {},
   "source": [
    "There is a lot of structure in this dataset. We need to think about transforms that we could use later to better expose the structure which in turn may improve modeling accuracy. So far it would be worth trying:\n",
    "\n",
    "1. Feature selection and removing the most correlated attributes.\n",
    "2. Normalizing the dataset to reduce the effect of differing scales.\n",
    "3. Standardizing the dataset to reduce the effects of differing distributions.\n",
    "\n",
    "We would also explore the possibility of binning (discretization) of the data. This can often improve accuracy for decision tree algorithms."
   ]
  },
  {
   "cell_type": "markdown",
   "metadata": {},
   "source": [
    "# Validation Dataset"
   ]
  },
  {
   "cell_type": "markdown",
   "metadata": {},
   "source": [
    "We will use 80% of the dataset for modeling and hold back 20% for validation."
   ]
  },
  {
   "cell_type": "code",
   "execution_count": 35,
   "metadata": {},
   "outputs": [],
   "source": [
    "# Split-out validation dataset\n",
    "X = dataset.drop('MEDV', axis=1)\n",
    "Y = dataset[['MEDV']]\n",
    "validation_size = 0.20\n",
    "seed = 7\n",
    "X_train, X_validation, Y_train, Y_validation = train_test_split(X, Y, test_size=validation_size, random_state=seed)"
   ]
  },
  {
   "cell_type": "markdown",
   "metadata": {},
   "source": [
    "# Evaluate Algorithms: Baseline"
   ]
  },
  {
   "cell_type": "markdown",
   "metadata": {},
   "source": [
    "We have no idea what algorithms will do well on this problem. \n",
    "\n",
    "Gut feel suggests regression algorithms like Linear Regression may do well. \n",
    "\n",
    "It is also possible that decision trees also may do well. \n",
    "\n",
    "We have no idea. Let's design our test process. \n",
    "\n",
    "We will use 10-fold cross-validation. \n",
    "\n",
    "The dataset is not too small and this is a good standard test harness configuration. \n",
    "\n",
    "We will evaluate algorithms using the Mean Squared Error (MSE) metric. \n",
    "\n",
    "MSE will give a gross idea of how wrong all predictions are (0 is perfect)."
   ]
  },
  {
   "cell_type": "code",
   "execution_count": 36,
   "metadata": {},
   "outputs": [],
   "source": [
    "# Test options and evaluation metric\n",
    "num_folds = 10\n",
    "seed = 7\n",
    "scoring = 'mean_squared_error'"
   ]
  },
  {
   "cell_type": "markdown",
   "metadata": {},
   "source": [
    "Let's create a baseline of performance on this problem and spot-check a number of different algorithms. We will select a suite of different algorithms capable of working on this regression problem. The three algorithms selected include:\n",
    "1. Linear Algorithms: Linear Regression (LR)\n",
    "2. Nonlinear Algorithms: Classiffication and Regression Trees (CART) and k-Nearest Neighbors (KNN)."
   ]
  },
  {
   "cell_type": "code",
   "execution_count": 37,
   "metadata": {},
   "outputs": [],
   "source": [
    "# Spot-Check Algorithms\n",
    "models = []\n",
    "models.append(('LR', LinearRegression()))\n",
    "models.append(('KNN', KNeighborsRegressor()))\n",
    "models.append(('CART', DecisionTreeRegressor()))"
   ]
  },
  {
   "cell_type": "markdown",
   "metadata": {},
   "source": [
    "The algorithms all use default tuning parameters. \n",
    "\n",
    "Let's compare the algorithms. \n",
    "\n",
    "We will display the mean and standard deviation of MSE for each algorithm as we calculate it and collect the results to use later."
   ]
  },
  {
   "cell_type": "code",
   "execution_count": 38,
   "metadata": {},
   "outputs": [
    {
     "name": "stdout",
     "output_type": "stream",
     "text": [
      "LR: 21.379856 (9.414264)\n",
      "KNN: 41.896488 (13.901688)\n",
      "CART: 25.345884 (11.247686)\n"
     ]
    }
   ],
   "source": [
    "# evaluate each model in turn\n",
    "results = []\n",
    "names = []\n",
    "for name, model in models:\n",
    "    kfold = KFold(n_splits=num_folds, random_state=seed)\n",
    "    cv_results = cross_val_score(model, X_train, Y_train, cv=kfold, scoring=scoring)\n",
    "    results.append(cv_results)\n",
    "    names.append(name)\n",
    "    msg = \"%s: %f (%f)\" % (name, -cv_results.mean(), cv_results.std())   # - sign to show negative number\n",
    "    print(msg)"
   ]
  },
  {
   "cell_type": "markdown",
   "metadata": {},
   "source": [
    "It looks like LR has the lowest MSE, followed closely by CART."
   ]
  },
  {
   "cell_type": "code",
   "execution_count": 39,
   "metadata": {},
   "outputs": [
    {
     "data": {
      "text/plain": [
       "[array([ -9.79242784, -27.98675963, -39.57310026, -21.6483667 ,\n",
       "        -19.30062302, -32.4894046 , -20.57890816,  -9.75795741,\n",
       "        -21.94582648, -10.72518316]),\n",
       " array([-37.58885854, -25.08201951, -49.22080976, -65.8169561 ,\n",
       "        -66.31606   , -40.57911   , -36.847     , -36.26257   ,\n",
       "        -37.55772   , -23.69378   ]),\n",
       " array([-20.6504878 , -10.59682927, -37.07682927, -36.93219512,\n",
       "        -43.94075   , -20.96275   , -18.943     ,  -8.5555    ,\n",
       "        -33.0345    , -22.766     ])]"
      ]
     },
     "execution_count": 39,
     "metadata": {},
     "output_type": "execute_result"
    }
   ],
   "source": [
    "results"
   ]
  },
  {
   "cell_type": "markdown",
   "metadata": {},
   "source": [
    "Let's take a look at the distribution of scores across all cross-validation folds by algorithm."
   ]
  },
  {
   "cell_type": "code",
   "execution_count": 40,
   "metadata": {},
   "outputs": [
    {
     "data": {
      "image/png": "[encoded data removed]",
      "text/plain": [
       "<Figure size 432x432 with 1 Axes>"
      ]
     },
     "metadata": {},
     "output_type": "display_data"
    }
   ],
   "source": [
    "# Compare Algorithms\n",
    "fig = pyplot.figure(figsize=(6,6))\n",
    "fig.suptitle('Algorithm Comparison')\n",
    "ax = fig.add_subplot(111)\n",
    "pyplot.boxplot(results)\n",
    "ax.set_xticklabels(names)\n",
    "pyplot.show()"
   ]
  },
  {
   "cell_type": "markdown",
   "metadata": {},
   "source": [
    "We can see similar distributions for the regression algorithms and perhaps a tighter distribution of scores for CART."
   ]
  },
  {
   "cell_type": "markdown",
   "metadata": {},
   "source": [
    "The differing scales of the data is probably hurting the skill of all of the algorithms and perhaps more so for KNN. Later we will look at running the same algorithms using a standardized copy of the data."
   ]
  },
  {
   "cell_type": "markdown",
   "metadata": {},
   "source": [
    "# Evaluate Algorithms: Standardization"
   ]
  },
  {
   "cell_type": "markdown",
   "metadata": {},
   "source": [
    "We suspect that the differing scales of the raw data may be negatively impacting the skill of some of the algorithms. \n",
    "\n",
    "Let's evaluate the same algorithms with a standardized copy of the dataset. \n",
    "\n",
    "This is where the data is transformed such that each attribute has a mean value of zero and a standard deviation of 1. \n",
    "\n",
    "We also need to avoid data leakage when we transform the data. \n",
    "\n",
    "A good way to avoid leakage is to use pipelines that standardize the data and build the model for each fold in the cross-validation test harness. \n",
    "\n",
    "That way we can get a fair estimation of how each model with standardized data might perform on unseen data."
   ]
  },
  {
   "cell_type": "code",
   "execution_count": 41,
   "metadata": {},
   "outputs": [
    {
     "data": {
      "text/plain": [
       "Pipeline(memory=None,\n",
       "     steps=[('Scaler', StandardScaler(copy=True, with_mean=True, with_std=True)), ('KNN', KNeighborsRegressor(algorithm='auto', leaf_size=30, metric='minkowski',\n",
       "          metric_params=None, n_jobs=1, n_neighbors=5, p=2,\n",
       "          weights='uniform'))])"
      ]
     },
     "execution_count": 41,
     "metadata": {},
     "output_type": "execute_result"
    }
   ],
   "source": [
    "# temp = StandardScaler(X_train)\n",
    "# KNeighborsRegressor.fit(temp, Y_train)\n",
    "model = Pipeline([('Scaler', StandardScaler()), ('KNN', KNeighborsRegressor())])\n",
    "model.fit(X_train, Y_train)"
   ]
  },
  {
   "cell_type": "code",
   "execution_count": 42,
   "metadata": {},
   "outputs": [],
   "source": [
    "# Standardize the dataset\n",
    "pipelines = []\n",
    "pipelines.append(('ScaledLR', Pipeline([('Scaler', StandardScaler()), ('LR', LinearRegression())])))\n",
    "pipelines.append(('ScaledKNN', Pipeline([('Scaler', StandardScaler()), ('KNN', KNeighborsRegressor())])))\n",
    "pipelines.append(('ScaledCART', Pipeline([('Scaler', StandardScaler()), ('CART', DecisionTreeRegressor())])))"
   ]
  },
  {
   "cell_type": "code",
   "execution_count": 43,
   "metadata": {},
   "outputs": [
    {
     "name": "stdout",
     "output_type": "stream",
     "text": [
      "ScaledLR: 21.379856 (9.414264)\n",
      "ScaledKNN: 20.107620 (12.376949)\n",
      "ScaledCART: 23.499830 (7.842032)\n"
     ]
    }
   ],
   "source": [
    "results = []\n",
    "names = []\n",
    "for name, model in pipelines:\n",
    "    kfold = KFold(n_splits=num_folds, random_state=seed)\n",
    "    cv_results = cross_val_score(model, X_train, Y_train, cv=kfold, scoring=scoring)\n",
    "    results.append(cv_results)\n",
    "    names.append(name)\n",
    "    msg = \"%s: %f (%f)\" % (name, -cv_results.mean(), cv_results.std())\n",
    "    print(msg)"
   ]
  },
  {
   "cell_type": "markdown",
   "metadata": {},
   "source": [
    "Running the example provides a list of mean squared errors. We can see that scaling did have an effect on KNN, driving the error lower than the other models."
   ]
  },
  {
   "cell_type": "markdown",
   "metadata": {},
   "source": [
    "Let's take a look at the distribution of the scores across the cross-validation folds."
   ]
  },
  {
   "cell_type": "code",
   "execution_count": 44,
   "metadata": {},
   "outputs": [
    {
     "data": {
      "image/png": "[encoded data removed]",
      "text/plain": [
       "<Figure size 432x432 with 1 Axes>"
      ]
     },
     "metadata": {},
     "output_type": "display_data"
    }
   ],
   "source": [
    "# Compare Algorithms\n",
    "fig = pyplot.figure(figsize=(6,6))\n",
    "fig.suptitle('Scaled Algorithm Comparison')\n",
    "ax = fig.add_subplot(111)\n",
    "pyplot.boxplot(results)\n",
    "ax.set_xticklabels(names)\n",
    "pyplot.show()"
   ]
  },
  {
   "cell_type": "markdown",
   "metadata": {},
   "source": [
    "We can see that KNN has both a tight distribution of error and has the lowest score."
   ]
  },
  {
   "cell_type": "markdown",
   "metadata": {},
   "source": [
    "# Improve Results With Tuning"
   ]
  },
  {
   "cell_type": "markdown",
   "metadata": {},
   "source": [
    "We know from the results that KNN achieves good results on a scaled version of the dataset. \n",
    "\n",
    "## But can it do better?\n",
    "\n",
    "The default value for the number of neighbors in KNN is 5. \n",
    "\n",
    "We can use a grid search to try a set of different numbers of neighbors and see if we can improve the score. \n",
    "\n",
    "The below example tries odd k values from 1 to 21, an arbitrary range covering a known good value of 5. \n",
    "\n",
    "Each k value (n neighbors) is evaluated using 10-fold cross-validation on a standardized copy of the 'training dataset'."
   ]
  },
  {
   "cell_type": "code",
   "execution_count": 45,
   "metadata": {},
   "outputs": [],
   "source": [
    "# KNN Algorithm tuning\n",
    "scaler = StandardScaler().fit(X_train)\n",
    "scaledX = scaler.transform(X_train)\n",
    "k_values = numpy.array([1,3,5,7,9,11,13,15,17,19,21])\n",
    "param_grid = dict(n_neighbors=k_values)\n",
    "model = KNeighborsRegressor()\n",
    "kfold = KFold(n_splits=num_folds, random_state=seed)\n",
    "grid = GridSearchCV(estimator=model, param_grid=param_grid, scoring=scoring, cv=kfold)\n",
    "grid_result = grid.fit(scaledX, Y_train)"
   ]
  },
  {
   "cell_type": "markdown",
   "metadata": {},
   "source": [
    "We can display the mean and standard deviation scores as well as the best performing value for k below."
   ]
  },
  {
   "cell_type": "code",
   "execution_count": 46,
   "metadata": {},
   "outputs": [
    {
     "name": "stdout",
     "output_type": "stream",
     "text": [
      "Best: 18.172137 using {'n_neighbors': 3}\n",
      "20.208663 (15.029652) with: {'n_neighbors': 1}\n",
      "18.172137 (12.950570) with: {'n_neighbors': 3}\n",
      "20.131163 (12.203697) with: {'n_neighbors': 5}\n",
      "20.575845 (12.345886) with: {'n_neighbors': 7}\n",
      "20.368264 (11.621738) with: {'n_neighbors': 9}\n",
      "21.009204 (11.610012) with: {'n_neighbors': 11}\n",
      "21.151809 (11.943318) with: {'n_neighbors': 13}\n",
      "21.557400 (11.536339) with: {'n_neighbors': 15}\n",
      "22.789938 (11.566861) with: {'n_neighbors': 17}\n",
      "23.871873 (11.340389) with: {'n_neighbors': 19}\n",
      "24.361362 (11.914786) with: {'n_neighbors': 21}\n"
     ]
    }
   ],
   "source": [
    "print(\"Best: %f using %s\" % (-grid_result.best_score_, grid_result.best_params_))\n",
    "means = grid_result.cv_results_['mean_test_score']\n",
    "stds = grid_result.cv_results_['std_test_score']\n",
    "params = grid_result.cv_results_['params']\n",
    "for mean, stdev, param in zip(means, stds, params):\n",
    "    print(\"%f (%f) with: %r\" % (-mean, stdev, param))"
   ]
  },
  {
   "cell_type": "markdown",
   "metadata": {},
   "source": [
    "# We can see that the best for k (n neighbors) is 3 providing a mean squared error of 18.172137, the best so far."
   ]
  },
  {
   "cell_type": "markdown",
   "metadata": {},
   "source": [
    "# Exercises"
   ]
  },
  {
   "cell_type": "markdown",
   "metadata": {},
   "source": [
    "Tune Decision Tree Algorithm"
   ]
  },
  {
   "cell_type": "code",
   "execution_count": 47,
   "metadata": {},
   "outputs": [],
   "source": [
    "# DT Algorithm tuning\n",
    "scaler = StandardScaler().fit(X_train)\n",
    "scaledX = scaler.transform(X_train)\n",
    "leaf = numpy.array([1,3,5,7,9,11,13,15,17,19,21])\n",
    "param_grid = dict(max_depth = k_values, min_samples_leaf = leaf)\n",
    "model = DecisionTreeRegressor()\n",
    "kfold = KFold(n_splits=num_folds, random_state=seed)\n",
    "grid = GridSearchCV(estimator=model, param_grid=param_grid, scoring=scoring, cv=kfold)\n",
    "grid_result = grid.fit(scaledX, Y_train)"
   ]
  },
  {
   "cell_type": "code",
   "execution_count": 48,
   "metadata": {},
   "outputs": [
    {
     "name": "stdout",
     "output_type": "stream",
     "text": [
      "Best: 17.919959 using {'max_depth': 11, 'min_samples_leaf': 13}\n",
      "45.971707 (11.385408) with: {'max_depth': 1, 'min_samples_leaf': 1}\n",
      "45.971707 (11.385408) with: {'max_depth': 1, 'min_samples_leaf': 3}\n",
      "45.971707 (11.385408) with: {'max_depth': 1, 'min_samples_leaf': 5}\n",
      "45.971707 (11.385408) with: {'max_depth': 1, 'min_samples_leaf': 7}\n",
      "45.971707 (11.385408) with: {'max_depth': 1, 'min_samples_leaf': 9}\n",
      "45.971707 (11.385408) with: {'max_depth': 1, 'min_samples_leaf': 11}\n",
      "45.971707 (11.385408) with: {'max_depth': 1, 'min_samples_leaf': 13}\n",
      "45.971707 (11.385408) with: {'max_depth': 1, 'min_samples_leaf': 15}\n",
      "45.971707 (11.385408) with: {'max_depth': 1, 'min_samples_leaf': 17}\n",
      "45.971707 (11.385408) with: {'max_depth': 1, 'min_samples_leaf': 19}\n",
      "45.971707 (11.385408) with: {'max_depth': 1, 'min_samples_leaf': 21}\n",
      "22.207668 (9.091347) with: {'max_depth': 3, 'min_samples_leaf': 1}\n",
      "21.837284 (8.775217) with: {'max_depth': 3, 'min_samples_leaf': 3}\n",
      "20.044560 (7.645032) with: {'max_depth': 3, 'min_samples_leaf': 5}\n",
      "19.997566 (7.738447) with: {'max_depth': 3, 'min_samples_leaf': 7}\n",
      "20.227538 (7.298980) with: {'max_depth': 3, 'min_samples_leaf': 9}\n",
      "19.595778 (7.566420) with: {'max_depth': 3, 'min_samples_leaf': 11}\n",
      "19.336377 (7.757653) with: {'max_depth': 3, 'min_samples_leaf': 13}\n",
      "19.310246 (7.703158) with: {'max_depth': 3, 'min_samples_leaf': 15}\n",
      "19.299716 (7.681312) with: {'max_depth': 3, 'min_samples_leaf': 17}\n",
      "19.343951 (7.660639) with: {'max_depth': 3, 'min_samples_leaf': 19}\n",
      "19.975121 (8.072525) with: {'max_depth': 3, 'min_samples_leaf': 21}\n",
      "22.236559 (10.423697) with: {'max_depth': 5, 'min_samples_leaf': 1}\n",
      "20.791513 (9.598328) with: {'max_depth': 5, 'min_samples_leaf': 3}\n",
      "21.286554 (9.113927) with: {'max_depth': 5, 'min_samples_leaf': 5}\n",
      "20.060480 (8.624936) with: {'max_depth': 5, 'min_samples_leaf': 7}\n",
      "19.397309 (8.865901) with: {'max_depth': 5, 'min_samples_leaf': 9}\n",
      "18.502065 (7.969687) with: {'max_depth': 5, 'min_samples_leaf': 11}\n",
      "18.192395 (8.195005) with: {'max_depth': 5, 'min_samples_leaf': 13}\n",
      "18.280885 (8.532860) with: {'max_depth': 5, 'min_samples_leaf': 15}\n",
      "18.817975 (8.977377) with: {'max_depth': 5, 'min_samples_leaf': 17}\n",
      "18.659087 (8.616113) with: {'max_depth': 5, 'min_samples_leaf': 19}\n",
      "18.978444 (8.965571) with: {'max_depth': 5, 'min_samples_leaf': 21}\n",
      "22.366002 (12.563392) with: {'max_depth': 7, 'min_samples_leaf': 1}\n",
      "20.339786 (9.598124) with: {'max_depth': 7, 'min_samples_leaf': 3}\n",
      "21.197766 (9.138709) with: {'max_depth': 7, 'min_samples_leaf': 5}\n",
      "20.792539 (9.711565) with: {'max_depth': 7, 'min_samples_leaf': 7}\n",
      "18.603006 (8.438265) with: {'max_depth': 7, 'min_samples_leaf': 9}\n",
      "18.108392 (7.470699) with: {'max_depth': 7, 'min_samples_leaf': 11}\n",
      "17.920017 (7.750631) with: {'max_depth': 7, 'min_samples_leaf': 13}\n",
      "18.146968 (8.256744) with: {'max_depth': 7, 'min_samples_leaf': 15}\n",
      "18.863792 (8.978191) with: {'max_depth': 7, 'min_samples_leaf': 17}\n",
      "18.817043 (8.475531) with: {'max_depth': 7, 'min_samples_leaf': 19}\n",
      "19.130079 (8.941335) with: {'max_depth': 7, 'min_samples_leaf': 21}\n",
      "25.335150 (13.101329) with: {'max_depth': 9, 'min_samples_leaf': 1}\n",
      "20.971470 (9.830409) with: {'max_depth': 9, 'min_samples_leaf': 3}\n",
      "20.725595 (8.944691) with: {'max_depth': 9, 'min_samples_leaf': 5}\n",
      "20.905571 (9.679853) with: {'max_depth': 9, 'min_samples_leaf': 7}\n",
      "18.574478 (8.253836) with: {'max_depth': 9, 'min_samples_leaf': 9}\n",
      "18.024992 (7.277879) with: {'max_depth': 9, 'min_samples_leaf': 11}\n",
      "17.919959 (7.751912) with: {'max_depth': 9, 'min_samples_leaf': 13}\n",
      "18.146968 (8.256744) with: {'max_depth': 9, 'min_samples_leaf': 15}\n",
      "18.863792 (8.978191) with: {'max_depth': 9, 'min_samples_leaf': 17}\n",
      "18.817043 (8.475531) with: {'max_depth': 9, 'min_samples_leaf': 19}\n",
      "19.130079 (8.941335) with: {'max_depth': 9, 'min_samples_leaf': 21}\n",
      "25.230187 (11.587800) with: {'max_depth': 11, 'min_samples_leaf': 1}\n",
      "21.907404 (10.616477) with: {'max_depth': 11, 'min_samples_leaf': 3}\n",
      "21.290824 (9.046310) with: {'max_depth': 11, 'min_samples_leaf': 5}\n",
      "20.826297 (9.789668) with: {'max_depth': 11, 'min_samples_leaf': 7}\n",
      "18.574478 (8.253836) with: {'max_depth': 11, 'min_samples_leaf': 9}\n",
      "18.024992 (7.277879) with: {'max_depth': 11, 'min_samples_leaf': 11}\n",
      "17.919959 (7.751912) with: {'max_depth': 11, 'min_samples_leaf': 13}\n",
      "18.146968 (8.256744) with: {'max_depth': 11, 'min_samples_leaf': 15}\n",
      "18.863792 (8.978191) with: {'max_depth': 11, 'min_samples_leaf': 17}\n",
      "18.817043 (8.475531) with: {'max_depth': 11, 'min_samples_leaf': 19}\n",
      "19.130079 (8.941335) with: {'max_depth': 11, 'min_samples_leaf': 21}\n",
      "25.797758 (12.099219) with: {'max_depth': 13, 'min_samples_leaf': 1}\n",
      "21.993780 (10.809137) with: {'max_depth': 13, 'min_samples_leaf': 3}\n",
      "21.225697 (9.024115) with: {'max_depth': 13, 'min_samples_leaf': 5}\n",
      "20.660554 (9.887143) with: {'max_depth': 13, 'min_samples_leaf': 7}\n",
      "18.574478 (8.253836) with: {'max_depth': 13, 'min_samples_leaf': 9}\n",
      "18.024992 (7.277879) with: {'max_depth': 13, 'min_samples_leaf': 11}\n",
      "17.919959 (7.751912) with: {'max_depth': 13, 'min_samples_leaf': 13}\n",
      "18.146968 (8.256744) with: {'max_depth': 13, 'min_samples_leaf': 15}\n",
      "18.863792 (8.978191) with: {'max_depth': 13, 'min_samples_leaf': 17}\n",
      "18.817043 (8.475531) with: {'max_depth': 13, 'min_samples_leaf': 19}\n",
      "19.130079 (8.941335) with: {'max_depth': 13, 'min_samples_leaf': 21}\n",
      "26.220184 (11.805413) with: {'max_depth': 15, 'min_samples_leaf': 1}\n",
      "21.811710 (10.531400) with: {'max_depth': 15, 'min_samples_leaf': 3}\n",
      "21.092176 (9.294158) with: {'max_depth': 15, 'min_samples_leaf': 5}\n",
      "20.826297 (9.789668) with: {'max_depth': 15, 'min_samples_leaf': 7}\n",
      "18.574478 (8.253836) with: {'max_depth': 15, 'min_samples_leaf': 9}\n",
      "18.024992 (7.277879) with: {'max_depth': 15, 'min_samples_leaf': 11}\n",
      "17.919959 (7.751912) with: {'max_depth': 15, 'min_samples_leaf': 13}\n",
      "18.146968 (8.256744) with: {'max_depth': 15, 'min_samples_leaf': 15}\n",
      "18.863792 (8.978191) with: {'max_depth': 15, 'min_samples_leaf': 17}\n",
      "18.817043 (8.475531) with: {'max_depth': 15, 'min_samples_leaf': 19}\n",
      "19.130079 (8.941335) with: {'max_depth': 15, 'min_samples_leaf': 21}\n",
      "21.148375 (7.956386) with: {'max_depth': 17, 'min_samples_leaf': 1}\n",
      "21.632541 (10.750334) with: {'max_depth': 17, 'min_samples_leaf': 3}\n",
      "21.214618 (9.272305) with: {'max_depth': 17, 'min_samples_leaf': 5}\n",
      "20.660554 (9.887143) with: {'max_depth': 17, 'min_samples_leaf': 7}\n",
      "18.574478 (8.253836) with: {'max_depth': 17, 'min_samples_leaf': 9}\n",
      "18.024992 (7.277879) with: {'max_depth': 17, 'min_samples_leaf': 11}\n",
      "17.919959 (7.751912) with: {'max_depth': 17, 'min_samples_leaf': 13}\n",
      "18.146968 (8.256744) with: {'max_depth': 17, 'min_samples_leaf': 15}\n",
      "18.863792 (8.978191) with: {'max_depth': 17, 'min_samples_leaf': 17}\n",
      "18.817043 (8.475531) with: {'max_depth': 17, 'min_samples_leaf': 19}\n",
      "19.130079 (8.941335) with: {'max_depth': 17, 'min_samples_leaf': 21}\n",
      "24.816813 (11.626663) with: {'max_depth': 19, 'min_samples_leaf': 1}\n",
      "21.747669 (10.581146) with: {'max_depth': 19, 'min_samples_leaf': 3}\n",
      "21.154387 (9.266257) with: {'max_depth': 19, 'min_samples_leaf': 5}\n",
      "20.748060 (9.812625) with: {'max_depth': 19, 'min_samples_leaf': 7}\n",
      "18.574478 (8.253836) with: {'max_depth': 19, 'min_samples_leaf': 9}\n",
      "18.024992 (7.277879) with: {'max_depth': 19, 'min_samples_leaf': 11}\n",
      "17.919959 (7.751912) with: {'max_depth': 19, 'min_samples_leaf': 13}\n",
      "18.146968 (8.256744) with: {'max_depth': 19, 'min_samples_leaf': 15}\n",
      "18.863792 (8.978191) with: {'max_depth': 19, 'min_samples_leaf': 17}\n",
      "18.817043 (8.475531) with: {'max_depth': 19, 'min_samples_leaf': 19}\n",
      "19.130079 (8.941335) with: {'max_depth': 19, 'min_samples_leaf': 21}\n",
      "22.183738 (8.782509) with: {'max_depth': 21, 'min_samples_leaf': 1}\n",
      "21.746803 (10.580811) with: {'max_depth': 21, 'min_samples_leaf': 3}\n",
      "21.145016 (9.271523) with: {'max_depth': 21, 'min_samples_leaf': 5}\n",
      "20.913803 (9.712909) with: {'max_depth': 21, 'min_samples_leaf': 7}\n",
      "18.574478 (8.253836) with: {'max_depth': 21, 'min_samples_leaf': 9}\n",
      "18.024992 (7.277879) with: {'max_depth': 21, 'min_samples_leaf': 11}\n",
      "17.919959 (7.751912) with: {'max_depth': 21, 'min_samples_leaf': 13}\n",
      "18.146968 (8.256744) with: {'max_depth': 21, 'min_samples_leaf': 15}\n",
      "18.863792 (8.978191) with: {'max_depth': 21, 'min_samples_leaf': 17}\n",
      "18.817043 (8.475531) with: {'max_depth': 21, 'min_samples_leaf': 19}\n",
      "19.130079 (8.941335) with: {'max_depth': 21, 'min_samples_leaf': 21}\n"
     ]
    }
   ],
   "source": [
    "print(\"Best: %f using %s\" % (-grid_result.best_score_, grid_result.best_params_))\n",
    "means = grid_result.cv_results_['mean_test_score']\n",
    "stds = grid_result.cv_results_['std_test_score']\n",
    "params = grid_result.cv_results_['params']\n",
    "for mean, stdev, param in zip(means, stds, params):\n",
    "    print(\"%f (%f) with: %r\" % (-mean, stdev, param))"
   ]
  },
  {
   "cell_type": "markdown",
   "metadata": {},
   "source": [
    "Tune Linear Regression Algorithm"
   ]
  },
  {
   "cell_type": "code",
   "execution_count": null,
   "metadata": {},
   "outputs": [],
   "source": [
    "# Linear Regression Algorithm tuning\n",
    "scaler = StandardScaler().fit(X_train)\n",
    "scaledX = scaler.transform(X_train)\n",
    "k_values = numpy.array([1,3,5,7,9,11,13,15,17,19,21])\n",
    "param_grid = dict(max_depth = k_values, min_samples_leaf = leaf)\n",
    "model = DecisionTreeRegressor()\n",
    "kfold = KFold(n_splits=num_folds, random_state=seed)\n",
    "grid = GridSearchCV(estimator=model, param_grid=param_grid, scoring=scoring, cv=kfold)\n",
    "grid_result = grid.fit(scaledX, Y_train)"
   ]
  },
  {
   "cell_type": "code",
   "execution_count": null,
   "metadata": {},
   "outputs": [],
   "source": [
    "print(\"Best: %f using %s\" % (-grid_result.best_score_, grid_result.best_params_))\n",
    "means = grid_result.cv_results_['mean_test_score']\n",
    "stds = grid_result.cv_results_['std_test_score']\n",
    "params = grid_result.cv_results_['params']\n",
    "for mean, stdev, param in zip(means, stds, params):\n",
    "    print(\"%f (%f) with: %r\" % (-mean, stdev, param))"
   ]
  },
  {
   "cell_type": "markdown",
   "metadata": {},
   "source": [
    "# Ensemble Methods"
   ]
  },
  {
   "cell_type": "markdown",
   "metadata": {},
   "source": [
    "Another way that we can improve the performance of algorithms on this problem is by using ensemble methods. \n",
    "\n",
    "We will evaluate two different ensemble machine learning algorithms, one boosting and one bagging method:\n",
    "\n",
    "1. Boosting Methods: AdaBoost (AB)\n",
    "2. Bagging Methods: Random Forests (RF)"
   ]
  },
  {
   "cell_type": "markdown",
   "metadata": {},
   "source": [
    "We will use the same test harness as before, 10-fold cross-validation and pipelines that standardize the training data for each fold."
   ]
  },
  {
   "cell_type": "code",
   "execution_count": 49,
   "metadata": {},
   "outputs": [],
   "source": [
    "# ensembles\n",
    "ensembles = []\n",
    "ensembles.append(('ScaledAB', Pipeline([('Scaler', StandardScaler()),('AB', AdaBoostRegressor())])))\n",
    "ensembles.append(('ScaledRF', Pipeline([('Scaler', StandardScaler()),('RF', RandomForestRegressor())])))"
   ]
  },
  {
   "cell_type": "code",
   "execution_count": 50,
   "metadata": {},
   "outputs": [
    {
     "name": "stdout",
     "output_type": "stream",
     "text": [
      "ScaledAB: 14.432517 (6.287376)\n",
      "ScaledRF: 14.686232 (8.366751)\n"
     ]
    }
   ],
   "source": [
    "results = []\n",
    "names = []\n",
    "for name, model in ensembles: \n",
    "    kfold = KFold(n_splits=num_folds, random_state=seed) \n",
    "    cv_results = cross_val_score(model, X_train, Y_train, cv=kfold, scoring=scoring)\n",
    "    results.append(cv_results)\n",
    "    names.append(name)\n",
    "    msg = \"%s: %f (%f)\" % (name, -cv_results.mean(), cv_results.std())\n",
    "    print(msg)"
   ]
  },
  {
   "cell_type": "markdown",
   "metadata": {},
   "source": [
    "# Running the example calculates the mean squared error for each method using the default parameters. \n",
    "\n",
    "# We can see that we're generally getting better scores than our earlier linear and nonlinear algorithms."
   ]
  },
  {
   "cell_type": "markdown",
   "metadata": {},
   "source": [
    "We can also plot the distribution of scores across the cross-validation folds."
   ]
  },
  {
   "cell_type": "code",
   "execution_count": 51,
   "metadata": {},
   "outputs": [
    {
     "data": {
      "image/png": "[encoded data removed]",
      "text/plain": [
       "<Figure size 1008x1008 with 1 Axes>"
      ]
     },
     "metadata": {},
     "output_type": "display_data"
    }
   ],
   "source": [
    "# Compare Algorithms\n",
    "fig = pyplot.figure(figsize=(14,14))\n",
    "fig.suptitle('Scaled Ensemble Algorithm Comparison')\n",
    "ax = fig.add_subplot(111)\n",
    "pyplot.boxplot(results)\n",
    "ax.set_xticklabels(names)\n",
    "pyplot.show()"
   ]
  },
  {
   "cell_type": "markdown",
   "metadata": {},
   "source": [
    "# It looks like RF has a better mean score"
   ]
  },
  {
   "cell_type": "markdown",
   "metadata": {},
   "source": [
    "We can probably do better, given that the ensemble techniques used the default parameters.\n",
    "\n",
    "Now we will look at tuning the RF to further lift the performance."
   ]
  },
  {
   "cell_type": "markdown",
   "metadata": {},
   "source": [
    "# Tune Ensemble Methods"
   ]
  },
  {
   "cell_type": "code",
   "execution_count": 52,
   "metadata": {},
   "outputs": [],
   "source": [
    "# Parameters for RF\n",
    "param_grid = dict(n_estimators=numpy.array([10, 20, 30, 40, 50, 60, 70, 80, 90, 100]))"
   ]
  },
  {
   "cell_type": "markdown",
   "metadata": {},
   "source": [
    "The default number of estimaters is 10. \n",
    "\n",
    "This is a good candidate parameter of RF to tune. \n",
    "\n",
    "Often, the larger the number of estimators, the better the performance but the longer the training time. \n",
    "\n",
    "Now we will look at tuning the number of estimators for RF. \n",
    "\n",
    "Below we define a parameter grid n-estimators values from 10 to 100 in increments of 10. \n",
    "\n",
    "Each setting is evaluated using 10-fold cross-validation."
   ]
  },
  {
   "cell_type": "code",
   "execution_count": 53,
   "metadata": {},
   "outputs": [],
   "source": [
    "# Tune scaled Random Forest\n",
    "scaler = StandardScaler().fit(X_train)\n",
    "rescaledX = scaler.transform(X_train)\n",
    "model = RandomForestRegressor(random_state=seed)\n",
    "kfold = KFold(n_splits=num_folds, random_state=seed)\n",
    "grid = GridSearchCV(estimator=model, param_grid=param_grid, scoring=scoring, cv=kfold)\n",
    "grid_result = grid.fit(rescaledX, Y_train)"
   ]
  },
  {
   "cell_type": "code",
   "execution_count": 54,
   "metadata": {},
   "outputs": [
    {
     "name": "stdout",
     "output_type": "stream",
     "text": [
      "Best: -12.075728 using {'n_estimators': 40}\n",
      "13.844806 (7.482487) with: {'n_estimators': 10}\n",
      "13.047166 (7.138202) with: {'n_estimators': 20}\n",
      "12.329725 (6.692102) with: {'n_estimators': 30}\n",
      "12.075728 (6.318779) with: {'n_estimators': 40}\n",
      "12.233028 (6.272580) with: {'n_estimators': 50}\n",
      "12.357486 (6.286516) with: {'n_estimators': 60}\n",
      "12.507801 (6.362861) with: {'n_estimators': 70}\n",
      "12.552741 (6.494378) with: {'n_estimators': 80}\n",
      "12.457543 (6.492264) with: {'n_estimators': 90}\n",
      "12.463770 (6.492863) with: {'n_estimators': 100}\n"
     ]
    }
   ],
   "source": [
    "print(\"Best: %f using %s\" % (grid_result.best_score_, grid_result.best_params_))\n",
    "means = grid_result.cv_results_['mean_test_score']\n",
    "stds = grid_result.cv_results_['std_test_score']\n",
    "params = grid_result.cv_results_['params']\n",
    "for mean, stdev, param in zip(means, stds, params): \n",
    "    print(\"%f (%f) with: %r\" % (-mean, stdev, param))"
   ]
  },
  {
   "cell_type": "markdown",
   "metadata": {},
   "source": [
    "# Exercise"
   ]
  },
  {
   "cell_type": "markdown",
   "metadata": {},
   "source": [
    "# Different hyperparameters in Random Forest"
   ]
  },
  {
   "cell_type": "markdown",
   "metadata": {},
   "source": [
    "# Tune AdaBoost Algorithm"
   ]
  },
  {
   "cell_type": "markdown",
   "metadata": {
    "collapsed": true
   },
   "source": [
    "We can see that the best configuration was n estimators=40 resulting in a mean squared error of 12.075728 whereas untuned method gave mean square error as 14.01."
   ]
  },
  {
   "cell_type": "markdown",
   "metadata": {},
   "source": [
    "# Next we can finalize the model and prepare it for general use."
   ]
  },
  {
   "cell_type": "markdown",
   "metadata": {},
   "source": [
    "# Finalize Model"
   ]
  },
  {
   "cell_type": "markdown",
   "metadata": {},
   "source": [
    "In this section we will finalize the RF model and evaluate it on our hold out validation dataset. \n",
    "\n",
    "First we need to prepare the model and train it on the entire training dataset.\n",
    "\n",
    "This includes standardizing the training dataset before training."
   ]
  },
  {
   "cell_type": "code",
   "execution_count": 55,
   "metadata": {
    "scrolled": true
   },
   "outputs": [
    {
     "data": {
      "text/plain": [
       "RandomForestRegressor(bootstrap=True, criterion='mse', max_depth=None,\n",
       "           max_features='auto', max_leaf_nodes=None,\n",
       "           min_impurity_decrease=0.0, min_impurity_split=None,\n",
       "           min_samples_leaf=1, min_samples_split=2,\n",
       "           min_weight_fraction_leaf=0.0, n_estimators=40, n_jobs=1,\n",
       "           oob_score=False, random_state=7, verbose=0, warm_start=False)"
      ]
     },
     "execution_count": 55,
     "metadata": {},
     "output_type": "execute_result"
    }
   ],
   "source": [
    "# prepare the model\n",
    "scaler = StandardScaler().fit(X_train)\n",
    "rescaledX = scaler.transform(X_train)\n",
    "model = RandomForestRegressor(random_state=seed, n_estimators=40)\n",
    "model.fit(rescaledX, Y_train)"
   ]
  },
  {
   "cell_type": "markdown",
   "metadata": {},
   "source": [
    "We can then scale the inputs for the validation dataset and generate predictions."
   ]
  },
  {
   "cell_type": "code",
   "execution_count": 56,
   "metadata": {},
   "outputs": [
    {
     "name": "stdout",
     "output_type": "stream",
     "text": [
      "16.64629001225489\n"
     ]
    }
   ],
   "source": [
    "# transform the validation dataset\n",
    "rescaledValidationX = scaler.transform(X_validation)\n",
    "predictions = model.predict(rescaledValidationX)\n",
    "print(mean_squared_error(Y_validation, predictions))"
   ]
  },
  {
   "cell_type": "markdown",
   "metadata": {},
   "source": [
    "We can see that the estimated mean squared error is 16.65, close to our estimate of 12.07."
   ]
  },
  {
   "cell_type": "markdown",
   "metadata": {},
   "source": [
    "# Deliver the solution to customer"
   ]
  },
  {
   "cell_type": "code",
   "execution_count": 57,
   "metadata": {},
   "outputs": [],
   "source": [
    "import pickle"
   ]
  },
  {
   "cell_type": "code",
   "execution_count": 58,
   "metadata": {},
   "outputs": [],
   "source": [
    "file_Name = \"BostonHousePricePredictionSolution\"\n",
    "# open the file for writing\n",
    "fileObject = open(file_Name,'wb') "
   ]
  },
  {
   "cell_type": "code",
   "execution_count": 59,
   "metadata": {},
   "outputs": [],
   "source": [
    "# this writes the object model to the file named 'BostonHousePricePredictionSolution'\n",
    "pickle.dump(model,fileObject)   "
   ]
  },
  {
   "cell_type": "code",
   "execution_count": 60,
   "metadata": {},
   "outputs": [],
   "source": [
    "# Close the fileObject\n",
    "fileObject.close()"
   ]
  },
  {
   "cell_type": "code",
   "execution_count": 61,
   "metadata": {},
   "outputs": [],
   "source": [
    "# we open the file for reading\n",
    "fileObject = open('BostonHousePricePredictionSolution','rb')  \n",
    "# load the object from the file into var b\n",
    "reloadedModel = pickle.load(fileObject)  "
   ]
  },
  {
   "cell_type": "code",
   "execution_count": 62,
   "metadata": {},
   "outputs": [
    {
     "name": "stdout",
     "output_type": "stream",
     "text": [
      "16.64629001225489\n"
     ]
    }
   ],
   "source": [
    "rescaledValidationX = scaler.transform(X_validation)\n",
    "predictions = model.predict(rescaledValidationX)\n",
    "print(mean_squared_error(Y_validation, predictions))"
   ]
  },
  {
   "cell_type": "code",
   "execution_count": 63,
   "metadata": {},
   "outputs": [],
   "source": [
    "newDataPoint = pd.DataFrame({'CRIM':[3.8497], 'ZN':[0.0], 'INDUS':[18.1], 'CHAS':[1], 'NOX':[0.77], 'RM':[6.395], \n",
    "                            'AGE':[91.0], 'DIS':[2.5052], 'RAD':[24], 'TAX':[666.0], 'PTRATIO':[20.2],'B':[391.34], \n",
    "                            'LSTAT':[13.27]})"
   ]
  },
  {
   "cell_type": "code",
   "execution_count": 64,
   "metadata": {},
   "outputs": [
    {
     "data": {
      "text/plain": [
       "array([30.5125])"
      ]
     },
     "execution_count": 64,
     "metadata": {},
     "output_type": "execute_result"
    }
   ],
   "source": [
    "reloadedModel.predict(newDataPoint)"
   ]
  },
  {
   "cell_type": "markdown",
   "metadata": {},
   "source": [
    "# What is missing here? Any mistakes? "
   ]
  },
  {
   "cell_type": "code",
   "execution_count": 65,
   "metadata": {},
   "outputs": [],
   "source": [
    "file_Name1 = \"scalers\"\n",
    "# open the file for writing\n",
    "fileObject1 = open(file_Name1,'wb') \n",
    "# this writes the object model to the file named 'BostonHousePricePredictionSolution'\n",
    "pickle.dump(scaler,fileObject1)   \n",
    "# Close the fileObject\n",
    "fileObject1.close()\n",
    "# we open the file for reading\n",
    "fileObject1 = open('scalers','rb')  \n",
    "# load the object from the file into var b\n",
    "reloadedScalers = pickle.load(fileObject1)  "
   ]
  },
  {
   "cell_type": "code",
   "execution_count": 66,
   "metadata": {},
   "outputs": [
    {
     "data": {
      "text/plain": [
       "array([19.5])"
      ]
     },
     "execution_count": 66,
     "metadata": {},
     "output_type": "execute_result"
    }
   ],
   "source": [
    "scaledNewDataPoint = reloadedScalers.transform(newDataPoint)\n",
    "reloadedModel.predict(scaledNewDataPoint)"
   ]
  },
  {
   "cell_type": "markdown",
   "metadata": {},
   "source": [
    "# Summary"
   ]
  },
  {
   "cell_type": "markdown",
   "metadata": {},
   "source": [
    "In this case study, we worked through a regression predictive modeling machine learning problem from end-to-end using Python. Specifically, the steps covered were:\n",
    "\n",
    "1. Problem Definition (Boston house price data)\n",
    "2. Loading the Dataset\n",
    "3. Analyze Data (some skewed distributions and correlated attributes)\n",
    "4. Evaluate Algorithms (Linear Regression looked good)\n",
    "5. Evaluate Algorithms with Standardization (KNN looked good)\n",
    "6. Algorithm Tuning (K=3 for KNN was best)\n",
    "7. Ensemble Methods (Bagging and Boosting, Random Forest looked good)\n",
    "8. Tuning Ensemble Methods (getting the most from Random Forest)\n",
    "9. Finalize Model (use all training data and confirm using validation dataset).\n",
    "\n",
    "Working through this case study showed us how the recipes for specific machine learning tasks can be pulled together into a complete project. \n",
    "\n",
    "Working through this case study is good practice at applied machine learning using Python and scikit-learn."
   ]
  },
  {
   "cell_type": "code",
   "execution_count": null,
   "metadata": {
    "collapsed": true
   },
   "outputs": [],
   "source": []
  }
 ],
 "metadata": {
  "kernelspec": {
   "display_name": "Python 3",
   "language": "python",
   "name": "python3"
  },
  "language_info": {
   "codemirror_mode": {
    "name": "ipython",
    "version": 3
   },
   "file_extension": ".py",
   "mimetype": "text/x-python",
   "name": "python",
   "nbconvert_exporter": "python",
   "pygments_lexer": "ipython3",
   "version": "3.7.6"
  },
  "toc": {
   "base_numbering": 1,
   "nav_menu": {},
   "number_sections": true,
   "sideBar": true,
   "skip_h1_title": false,
   "title_cell": "Table of Contents",
   "title_sidebar": "Contents",
   "toc_cell": false,
   "toc_position": {},
   "toc_section_display": true,
   "toc_window_display": false
  }
 },
 "nbformat": 4,
 "nbformat_minor": 2
}
