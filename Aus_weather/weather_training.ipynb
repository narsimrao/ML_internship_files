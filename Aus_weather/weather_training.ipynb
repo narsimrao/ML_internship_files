{
 "cells": [
  {
   "cell_type": "code",
   "execution_count": 25,
   "metadata": {},
   "outputs": [],
   "source": [
    "import pandas as pd"
   ]
  },
  {
   "cell_type": "code",
   "execution_count": 26,
   "metadata": {},
   "outputs": [],
   "source": [
    "X_train = pd.read_csv('X_train.csv')\n",
    "X_test = pd.read_csv('X_test.csv')\n",
    "y_train = pd.read_csv('y_train.csv')\n",
    "y_test = pd.read_csv('y_test.csv')"
   ]
  },
  {
   "cell_type": "code",
   "execution_count": 27,
   "metadata": {},
   "outputs": [],
   "source": [
    "from sklearn.compose import ColumnTransformer\n",
    "from sklearn.pipeline import Pipeline\n",
    "from sklearn.linear_model import LogisticRegression\n",
    "from sklearn.tree import DecisionTreeClassifier"
   ]
  },
  {
   "cell_type": "code",
   "execution_count": 28,
   "metadata": {},
   "outputs": [
    {
     "name": "stderr",
     "output_type": "stream",
     "text": [
      "C:\\Users\\ThinkPad\\anaconda3\\lib\\site-packages\\sklearn\\utils\\validation.py:63: DataConversionWarning: A column-vector y was passed when a 1d array was expected. Please change the shape of y to (n_samples, ), for example using ravel().\n",
      "  return f(*args, **kwargs)\n"
     ]
    },
    {
     "name": "stdout",
     "output_type": "stream",
     "text": [
      "Score : 0.7909047160731473\n"
     ]
    },
    {
     "name": "stderr",
     "output_type": "stream",
     "text": [
      "C:\\Users\\ThinkPad\\anaconda3\\lib\\site-packages\\sklearn\\linear_model\\_logistic.py:763: ConvergenceWarning: lbfgs failed to converge (status=1):\n",
      "STOP: TOTAL NO. of ITERATIONS REACHED LIMIT.\n",
      "\n",
      "Increase the number of iterations (max_iter) or scale the data as shown in:\n",
      "    https://scikit-learn.org/stable/modules/preprocessing.html\n",
      "Please also refer to the documentation for alternative solver options:\n",
      "    https://scikit-learn.org/stable/modules/linear_model.html#logistic-regression\n",
      "  n_iter_i = _check_optimize_result(\n"
     ]
    }
   ],
   "source": [
    "pipe = Pipeline([('logistic',LogisticRegression())])\n",
    "pipe.fit(X_train,y_train)\n",
    "print('Score :',pipe.score(X_test,y_test))"
   ]
  },
  {
   "cell_type": "code",
   "execution_count": 29,
   "metadata": {},
   "outputs": [
    {
     "name": "stdout",
     "output_type": "stream",
     "text": [
      "Score : 0.594012099546267\n"
     ]
    }
   ],
   "source": [
    "pipe = Pipeline([('Decision',DecisionTreeClassifier())])\n",
    "pipe.fit(X_train,y_train)\n",
    "print('Score :',pipe.score(X_test,y_test))"
   ]
  },
  {
   "cell_type": "code",
   "execution_count": 30,
   "metadata": {},
   "outputs": [],
   "source": [
    "from sklearn.model_selection import GridSearchCV\n",
    "parameters = {'criterion':['gini'], 'splitter':['best'], 'min_samples_split':[100,200,300,400,500,600,700,800,900], 'random_state':[42]}\n",
    "clf = GridSearchCV(DecisionTreeClassifier(),parameters, cv = 10, return_train_score=False)"
   ]
  },
  {
   "cell_type": "code",
   "execution_count": 31,
   "metadata": {},
   "outputs": [
    {
     "data": {
      "text/plain": [
       "GridSearchCV(cv=10, estimator=DecisionTreeClassifier(),\n",
       "             param_grid={'criterion': ['gini'],\n",
       "                         'min_samples_split': [100, 200, 300, 400, 500, 600,\n",
       "                                               700, 800, 900],\n",
       "                         'random_state': [42], 'splitter': ['best']})"
      ]
     },
     "execution_count": 31,
     "metadata": {},
     "output_type": "execute_result"
    }
   ],
   "source": [
    "clf.fit(X_train,y_train)"
   ]
  },
  {
   "cell_type": "code",
   "execution_count": 32,
   "metadata": {},
   "outputs": [
    {
     "data": {
      "text/html": [
       "<div>\n",
       "<style scoped>\n",
       "    .dataframe tbody tr th:only-of-type {\n",
       "        vertical-align: middle;\n",
       "    }\n",
       "\n",
       "    .dataframe tbody tr th {\n",
       "        vertical-align: top;\n",
       "    }\n",
       "\n",
       "    .dataframe thead th {\n",
       "        text-align: right;\n",
       "    }\n",
       "</style>\n",
       "<table border=\"1\" class=\"dataframe\">\n",
       "  <thead>\n",
       "    <tr style=\"text-align: right;\">\n",
       "      <th></th>\n",
       "      <th>mean_fit_time</th>\n",
       "      <th>std_fit_time</th>\n",
       "      <th>mean_score_time</th>\n",
       "      <th>std_score_time</th>\n",
       "      <th>param_criterion</th>\n",
       "      <th>param_min_samples_split</th>\n",
       "      <th>param_random_state</th>\n",
       "      <th>param_splitter</th>\n",
       "      <th>params</th>\n",
       "      <th>split0_test_score</th>\n",
       "      <th>...</th>\n",
       "      <th>split3_test_score</th>\n",
       "      <th>split4_test_score</th>\n",
       "      <th>split5_test_score</th>\n",
       "      <th>split6_test_score</th>\n",
       "      <th>split7_test_score</th>\n",
       "      <th>split8_test_score</th>\n",
       "      <th>split9_test_score</th>\n",
       "      <th>mean_test_score</th>\n",
       "      <th>std_test_score</th>\n",
       "      <th>rank_test_score</th>\n",
       "    </tr>\n",
       "  </thead>\n",
       "  <tbody>\n",
       "    <tr>\n",
       "      <th>0</th>\n",
       "      <td>0.901184</td>\n",
       "      <td>0.023736</td>\n",
       "      <td>0.006995</td>\n",
       "      <td>0.001179</td>\n",
       "      <td>gini</td>\n",
       "      <td>100</td>\n",
       "      <td>42</td>\n",
       "      <td>best</td>\n",
       "      <td>{'criterion': 'gini', 'min_samples_split': 100...</td>\n",
       "      <td>0.827361</td>\n",
       "      <td>...</td>\n",
       "      <td>0.822635</td>\n",
       "      <td>0.818510</td>\n",
       "      <td>0.827877</td>\n",
       "      <td>0.826072</td>\n",
       "      <td>0.823150</td>\n",
       "      <td>0.822190</td>\n",
       "      <td>0.829323</td>\n",
       "      <td>0.824144</td>\n",
       "      <td>0.003203</td>\n",
       "      <td>9</td>\n",
       "    </tr>\n",
       "    <tr>\n",
       "      <th>1</th>\n",
       "      <td>0.790049</td>\n",
       "      <td>0.029950</td>\n",
       "      <td>0.006496</td>\n",
       "      <td>0.001113</td>\n",
       "      <td>gini</td>\n",
       "      <td>200</td>\n",
       "      <td>42</td>\n",
       "      <td>best</td>\n",
       "      <td>{'criterion': 'gini', 'min_samples_split': 200...</td>\n",
       "      <td>0.832259</td>\n",
       "      <td>...</td>\n",
       "      <td>0.823408</td>\n",
       "      <td>0.827619</td>\n",
       "      <td>0.832087</td>\n",
       "      <td>0.831915</td>\n",
       "      <td>0.825041</td>\n",
       "      <td>0.826487</td>\n",
       "      <td>0.837229</td>\n",
       "      <td>0.829670</td>\n",
       "      <td>0.003926</td>\n",
       "      <td>8</td>\n",
       "    </tr>\n",
       "    <tr>\n",
       "      <th>2</th>\n",
       "      <td>0.938666</td>\n",
       "      <td>0.316891</td>\n",
       "      <td>0.007094</td>\n",
       "      <td>0.002467</td>\n",
       "      <td>gini</td>\n",
       "      <td>300</td>\n",
       "      <td>42</td>\n",
       "      <td>best</td>\n",
       "      <td>{'criterion': 'gini', 'min_samples_split': 300...</td>\n",
       "      <td>0.835782</td>\n",
       "      <td>...</td>\n",
       "      <td>0.826674</td>\n",
       "      <td>0.830455</td>\n",
       "      <td>0.832431</td>\n",
       "      <td>0.835611</td>\n",
       "      <td>0.830541</td>\n",
       "      <td>0.829495</td>\n",
       "      <td>0.837229</td>\n",
       "      <td>0.832170</td>\n",
       "      <td>0.003083</td>\n",
       "      <td>4</td>\n",
       "    </tr>\n",
       "    <tr>\n",
       "      <th>3</th>\n",
       "      <td>0.697405</td>\n",
       "      <td>0.008572</td>\n",
       "      <td>0.006194</td>\n",
       "      <td>0.000868</td>\n",
       "      <td>gini</td>\n",
       "      <td>400</td>\n",
       "      <td>42</td>\n",
       "      <td>best</td>\n",
       "      <td>{'criterion': 'gini', 'min_samples_split': 400...</td>\n",
       "      <td>0.837329</td>\n",
       "      <td>...</td>\n",
       "      <td>0.829166</td>\n",
       "      <td>0.829595</td>\n",
       "      <td>0.832947</td>\n",
       "      <td>0.837243</td>\n",
       "      <td>0.832345</td>\n",
       "      <td>0.829924</td>\n",
       "      <td>0.837229</td>\n",
       "      <td>0.833141</td>\n",
       "      <td>0.003086</td>\n",
       "      <td>1</td>\n",
       "    </tr>\n",
       "    <tr>\n",
       "      <th>4</th>\n",
       "      <td>0.817737</td>\n",
       "      <td>0.188837</td>\n",
       "      <td>0.008898</td>\n",
       "      <td>0.005373</td>\n",
       "      <td>gini</td>\n",
       "      <td>500</td>\n",
       "      <td>42</td>\n",
       "      <td>best</td>\n",
       "      <td>{'criterion': 'gini', 'min_samples_split': 500...</td>\n",
       "      <td>0.838274</td>\n",
       "      <td>...</td>\n",
       "      <td>0.826588</td>\n",
       "      <td>0.831142</td>\n",
       "      <td>0.833548</td>\n",
       "      <td>0.837071</td>\n",
       "      <td>0.829681</td>\n",
       "      <td>0.831128</td>\n",
       "      <td>0.835940</td>\n",
       "      <td>0.832823</td>\n",
       "      <td>0.003463</td>\n",
       "      <td>2</td>\n",
       "    </tr>\n",
       "  </tbody>\n",
       "</table>\n",
       "<p>5 rows × 22 columns</p>\n",
       "</div>"
      ],
      "text/plain": [
       "   mean_fit_time  std_fit_time  mean_score_time  std_score_time  \\\n",
       "0       0.901184      0.023736         0.006995        0.001179   \n",
       "1       0.790049      0.029950         0.006496        0.001113   \n",
       "2       0.938666      0.316891         0.007094        0.002467   \n",
       "3       0.697405      0.008572         0.006194        0.000868   \n",
       "4       0.817737      0.188837         0.008898        0.005373   \n",
       "\n",
       "  param_criterion param_min_samples_split param_random_state param_splitter  \\\n",
       "0            gini                     100                 42           best   \n",
       "1            gini                     200                 42           best   \n",
       "2            gini                     300                 42           best   \n",
       "3            gini                     400                 42           best   \n",
       "4            gini                     500                 42           best   \n",
       "\n",
       "                                              params  split0_test_score  ...  \\\n",
       "0  {'criterion': 'gini', 'min_samples_split': 100...           0.827361  ...   \n",
       "1  {'criterion': 'gini', 'min_samples_split': 200...           0.832259  ...   \n",
       "2  {'criterion': 'gini', 'min_samples_split': 300...           0.835782  ...   \n",
       "3  {'criterion': 'gini', 'min_samples_split': 400...           0.837329  ...   \n",
       "4  {'criterion': 'gini', 'min_samples_split': 500...           0.838274  ...   \n",
       "\n",
       "   split3_test_score  split4_test_score  split5_test_score  split6_test_score  \\\n",
       "0           0.822635           0.818510           0.827877           0.826072   \n",
       "1           0.823408           0.827619           0.832087           0.831915   \n",
       "2           0.826674           0.830455           0.832431           0.835611   \n",
       "3           0.829166           0.829595           0.832947           0.837243   \n",
       "4           0.826588           0.831142           0.833548           0.837071   \n",
       "\n",
       "   split7_test_score  split8_test_score  split9_test_score  mean_test_score  \\\n",
       "0           0.823150           0.822190           0.829323         0.824144   \n",
       "1           0.825041           0.826487           0.837229         0.829670   \n",
       "2           0.830541           0.829495           0.837229         0.832170   \n",
       "3           0.832345           0.829924           0.837229         0.833141   \n",
       "4           0.829681           0.831128           0.835940         0.832823   \n",
       "\n",
       "   std_test_score  rank_test_score  \n",
       "0        0.003203                9  \n",
       "1        0.003926                8  \n",
       "2        0.003083                4  \n",
       "3        0.003086                1  \n",
       "4        0.003463                2  \n",
       "\n",
       "[5 rows x 22 columns]"
      ]
     },
     "execution_count": 32,
     "metadata": {},
     "output_type": "execute_result"
    }
   ],
   "source": [
    "clf_df = pd.DataFrame(clf.cv_results_)\n",
    "clf_df.head()"
   ]
  },
  {
   "cell_type": "code",
   "execution_count": 33,
   "metadata": {},
   "outputs": [
    {
     "name": "stdout",
     "output_type": "stream",
     "text": [
      "Best Score : 0.8331414209303176 Best Params : {'criterion': 'gini', 'min_samples_split': 400, 'random_state': 42, 'splitter': 'best'}\n"
     ]
    }
   ],
   "source": [
    "print('Best Score :',clf.best_score_,'Best Params :',clf.best_params_)"
   ]
  },
  {
   "cell_type": "code",
   "execution_count": 34,
   "metadata": {},
   "outputs": [],
   "source": [
    "from sklearn.tree import DecisionTreeClassifier\n",
    "from sklearn.naive_bayes import MultinomialNB\n",
    "from sklearn.neighbors import KNeighborsClassifier\n",
    "from sklearn.ensemble import RandomForestClassifier\n",
    "from sklearn.svm import SVC\n",
    "from sklearn.ensemble import GradientBoostingClassifier"
   ]
  },
  {
   "cell_type": "code",
   "execution_count": 45,
   "metadata": {},
   "outputs": [],
   "source": [
    "# Initialze the estimators\n",
    "clf1 = RandomForestClassifier(random_state=42)\n",
    "clf2 = SVC(probability=True, random_state=42)\n",
    "# clf3 = LogisticRegression(random_state=42)\n",
    "# clf4 = DecisionTreeClassifier(random_state=42)\n",
    "# clf5 = KNeighborsClassifier()\n",
    "# clf6 = MultinomialNB()\n",
    "# clf7 = GradientBoostingClassifier(random_state=42)"
   ]
  },
  {
   "cell_type": "code",
   "execution_count": 46,
   "metadata": {},
   "outputs": [],
   "source": [
    "# Initiaze the hyperparameters for each dictionary\n",
    "param1 = {}\n",
    "param1['classifier__n_estimators'] = [10, 50, 100, 250]\n",
    "param1['classifier__max_depth'] = [5, 10, 20]\n",
    "param1['classifier__class_weight'] = [None, {0:1,1:5}, {0:1,1:10}, {0:1,1:25}]\n",
    "param1['classifier'] = [clf1]\n",
    "\n",
    "param2 = {}\n",
    "param2['classifier__C'] = [10**-2, 10**-1, 10**0, 10**1, 10**2]\n",
    "param2['classifier__class_weight'] = [None, {0:1,1:5}, {0:1,1:10}, {0:1,1:25}]\n",
    "param2['classifier'] = [clf2]\n",
    "\n",
    "# param3 = {}\n",
    "# param3['classifier__C'] = [10**-2, 10**-1, 10**0, 10**1, 10**2]\n",
    "# param3['classifier__penalty'] = ['l1', 'l2']\n",
    "# param3['classifier__class_weight'] = [None, {0:1,1:5}, {0:1,1:10}, {0:1,1:25}]\n",
    "# param3['classifier'] = [clf3]\n",
    "\n",
    "# param4 = {}\n",
    "# param4['classifier__max_depth'] = [5,10,25,None]\n",
    "# param4['classifier__min_samples_split'] = [2,5,10]\n",
    "# param4['classifier__class_weight'] = [None, {0:1,1:5}, {0:1,1:10}, {0:1,1:25}]\n",
    "# param4['classifier'] = [clf4]\n",
    "\n",
    "# param5 = {}\n",
    "# param5['classifier__n_neighbors'] = [2,5,10,25,50]\n",
    "# param5['classifier'] = [clf5]\n",
    "\n",
    "# param6 = {}\n",
    "# param6['classifier__alpha'] = [10**0, 10**1, 10**2]\n",
    "# param6['classifier'] = [clf6]\n",
    "\n",
    "# param7 = {}\n",
    "# param7['classifier__n_estimators'] = [10, 50, 100, 250]\n",
    "# param7['classifier__max_depth'] = [5, 10, 20]\n",
    "# param7['classifier'] = [clf7]"
   ]
  },
  {
   "cell_type": "code",
   "execution_count": 37,
   "metadata": {},
   "outputs": [],
   "source": [
    "pipeline = Pipeline([('classifier', clf1)])\n",
    "# params = [param1, param2, param3, param4, param5, param6, param7]\n",
    "params = [param1]"
   ]
  },
  {
   "cell_type": "code",
   "execution_count": 38,
   "metadata": {},
   "outputs": [
    {
     "name": "stderr",
     "output_type": "stream",
     "text": [
      "C:\\Users\\ThinkPad\\anaconda3\\lib\\site-packages\\sklearn\\pipeline.py:346: DataConversionWarning: A column-vector y was passed when a 1d array was expected. Please change the shape of y to (n_samples,), for example using ravel().\n",
      "  self._final_estimator.fit(Xt, y, **fit_params_last_step)\n"
     ]
    }
   ],
   "source": [
    "from sklearn.model_selection import GridSearchCV\n",
    "# Train the grid search model\n",
    "gs = GridSearchCV(pipeline, params, cv=5, n_jobs=-1, scoring='roc_auc').fit(X_train, y_train)"
   ]
  },
  {
   "cell_type": "code",
   "execution_count": 39,
   "metadata": {},
   "outputs": [
    {
     "data": {
      "text/plain": [
       "{'classifier': RandomForestClassifier(max_depth=20, n_estimators=250, random_state=42),\n",
       " 'classifier__class_weight': None,\n",
       " 'classifier__max_depth': 20,\n",
       " 'classifier__n_estimators': 250}"
      ]
     },
     "execution_count": 39,
     "metadata": {},
     "output_type": "execute_result"
    }
   ],
   "source": [
    "gs.best_params_"
   ]
  },
  {
   "cell_type": "code",
   "execution_count": 40,
   "metadata": {},
   "outputs": [
    {
     "data": {
      "text/plain": [
       "0.8668198868627149"
      ]
     },
     "execution_count": 40,
     "metadata": {},
     "output_type": "execute_result"
    }
   ],
   "source": [
    "gs.best_score_"
   ]
  },
  {
   "cell_type": "code",
   "execution_count": 41,
   "metadata": {},
   "outputs": [],
   "source": [
    "predict = gs.predict(X_test)"
   ]
  },
  {
   "cell_type": "code",
   "execution_count": 42,
   "metadata": {},
   "outputs": [
    {
     "data": {
      "text/plain": [
       "array([1, 0, 1, ..., 1, 1, 0], dtype=int64)"
      ]
     },
     "execution_count": 42,
     "metadata": {},
     "output_type": "execute_result"
    }
   ],
   "source": [
    "predict"
   ]
  },
  {
   "cell_type": "code",
   "execution_count": 43,
   "metadata": {},
   "outputs": [
    {
     "data": {
      "text/plain": [
       "1.0"
      ]
     },
     "execution_count": 43,
     "metadata": {},
     "output_type": "execute_result"
    }
   ],
   "source": [
    "gs.score(X_test,predict)"
   ]
  },
  {
   "cell_type": "code",
   "execution_count": 47,
   "metadata": {},
   "outputs": [],
   "source": [
    "pipeline = Pipeline([('classifier', clf2)])\n",
    "# params = [param1, param2, param3, param4, param5, param6, param7]\n",
    "params = [param2]"
   ]
  },
  {
   "cell_type": "code",
   "execution_count": 48,
   "metadata": {},
   "outputs": [],
   "source": [
    "from sklearn.model_selection import GridSearchCV\n",
    "# Train the grid search model\n",
    "gs = GridSearchCV(pipeline, params, cv=5, n_jobs=-1, scoring='roc_auc').fit(X_train, y_train)"
   ]
  },
  {
   "cell_type": "code",
   "execution_count": null,
   "metadata": {},
   "outputs": [],
   "source": [
    "print('best parameter :',gs.best_params_,'best score :',gs.best_score_)"
   ]
  },
  {
   "cell_type": "code",
   "execution_count": null,
   "metadata": {},
   "outputs": [],
   "source": [
    "predict = gs.predict(X_test)\n",
    "print(gs.score(X_test,predict))"
   ]
  }
 ],
 "metadata": {
  "interpreter": {
   "hash": "274b066e0da97a5956898104b9dfdd450d2a26e18b93296a9c54d8e466633084"
  },
  "kernelspec": {
   "display_name": "Python 3.8.8 ('base')",
   "language": "python",
   "name": "python3"
  },
  "language_info": {
   "codemirror_mode": {
    "name": "ipython",
    "version": 3
   },
   "file_extension": ".py",
   "mimetype": "text/x-python",
   "name": "python",
   "nbconvert_exporter": "python",
   "pygments_lexer": "ipython3",
   "version": "3.9.7"
  },
  "orig_nbformat": 4
 },
 "nbformat": 4,
 "nbformat_minor": 2
}
