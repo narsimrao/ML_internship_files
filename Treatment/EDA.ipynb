{
 "cells": [
  {
   "cell_type": "code",
   "execution_count": 1,
   "metadata": {},
   "outputs": [],
   "source": [
    "import pandas as pd\n",
    "import numpy as np\n",
    "import matplotlib.pyplot as plt\n",
    "import seaborn as sns\n",
    "\n",
    "import warnings\n",
    "warnings.filterwarnings(\"ignore\")"
   ]
  },
  {
   "cell_type": "code",
   "execution_count": 2,
   "metadata": {},
   "outputs": [
    {
     "data": {
      "text/html": [
       "<div><div id=22b6fbae-74ec-4c80-861c-ec811ab77290 style=\"display:none; background-color:#9D6CFF; color:white; width:200px; height:30px; padding-left:5px; border-radius:4px; flex-direction:row; justify-content:space-around; align-items:center;\" onmouseover=\"this.style.backgroundColor='#BA9BF8'\" onmouseout=\"this.style.backgroundColor='#9D6CFF'\" onclick=\"window.commands?.execute('create-mitosheet-from-dataframe-output');\">See Full Dataframe in Mito</div> <script> if (window.commands.hasCommand('create-mitosheet-from-dataframe-output')) document.getElementById('22b6fbae-74ec-4c80-861c-ec811ab77290').style.display = 'flex' </script> <table border=\"1\" class=\"dataframe\">\n",
       "  <thead>\n",
       "    <tr style=\"text-align: right;\">\n",
       "      <th></th>\n",
       "      <th>encounter_id</th>\n",
       "      <th>patient_nbr</th>\n",
       "      <th>race</th>\n",
       "      <th>gender</th>\n",
       "      <th>age</th>\n",
       "      <th>weight</th>\n",
       "      <th>admission_type_id</th>\n",
       "      <th>discharge_disposition_id</th>\n",
       "      <th>admission_source_id</th>\n",
       "      <th>time_in_hospital</th>\n",
       "      <th>...</th>\n",
       "      <th>number_outpatient</th>\n",
       "      <th>number_emergency</th>\n",
       "      <th>number_inpatient</th>\n",
       "      <th>diag_1</th>\n",
       "      <th>diag_2</th>\n",
       "      <th>diag_3</th>\n",
       "      <th>number_diagnoses</th>\n",
       "      <th>max_glu_serum</th>\n",
       "      <th>A1Cresult</th>\n",
       "      <th>Target</th>\n",
       "    </tr>\n",
       "  </thead>\n",
       "  <tbody>\n",
       "    <tr>\n",
       "      <th>0</th>\n",
       "      <td>64410</td>\n",
       "      <td>86047875</td>\n",
       "      <td>AfricanAmerican</td>\n",
       "      <td>Female</td>\n",
       "      <td>[20-30)</td>\n",
       "      <td>?</td>\n",
       "      <td>1</td>\n",
       "      <td>1</td>\n",
       "      <td>7</td>\n",
       "      <td>2</td>\n",
       "      <td>...</td>\n",
       "      <td>2</td>\n",
       "      <td>0</td>\n",
       "      <td>1</td>\n",
       "      <td>648</td>\n",
       "      <td>250</td>\n",
       "      <td>V27</td>\n",
       "      <td>6</td>\n",
       "      <td>None</td>\n",
       "      <td>None</td>\n",
       "      <td>Drug</td>\n",
       "    </tr>\n",
       "    <tr>\n",
       "      <th>1</th>\n",
       "      <td>500364</td>\n",
       "      <td>82442376</td>\n",
       "      <td>Caucasian</td>\n",
       "      <td>Male</td>\n",
       "      <td>[30-40)</td>\n",
       "      <td>?</td>\n",
       "      <td>1</td>\n",
       "      <td>1</td>\n",
       "      <td>7</td>\n",
       "      <td>2</td>\n",
       "      <td>...</td>\n",
       "      <td>0</td>\n",
       "      <td>0</td>\n",
       "      <td>0</td>\n",
       "      <td>8</td>\n",
       "      <td>250.43</td>\n",
       "      <td>403</td>\n",
       "      <td>7</td>\n",
       "      <td>None</td>\n",
       "      <td>None</td>\n",
       "      <td>Solo_Insulin</td>\n",
       "    </tr>\n",
       "    <tr>\n",
       "      <th>2</th>\n",
       "      <td>42570</td>\n",
       "      <td>77586282</td>\n",
       "      <td>Caucasian</td>\n",
       "      <td>Male</td>\n",
       "      <td>[80-90)</td>\n",
       "      <td>?</td>\n",
       "      <td>1</td>\n",
       "      <td>6</td>\n",
       "      <td>7</td>\n",
       "      <td>10</td>\n",
       "      <td>...</td>\n",
       "      <td>0</td>\n",
       "      <td>0</td>\n",
       "      <td>0</td>\n",
       "      <td>428</td>\n",
       "      <td>411</td>\n",
       "      <td>427</td>\n",
       "      <td>8</td>\n",
       "      <td>None</td>\n",
       "      <td>None</td>\n",
       "      <td>Solo_Insulin</td>\n",
       "    </tr>\n",
       "    <tr>\n",
       "      <th>3</th>\n",
       "      <td>73578</td>\n",
       "      <td>86328819</td>\n",
       "      <td>AfricanAmerican</td>\n",
       "      <td>Male</td>\n",
       "      <td>[60-70)</td>\n",
       "      <td>?</td>\n",
       "      <td>1</td>\n",
       "      <td>3</td>\n",
       "      <td>7</td>\n",
       "      <td>12</td>\n",
       "      <td>...</td>\n",
       "      <td>0</td>\n",
       "      <td>0</td>\n",
       "      <td>0</td>\n",
       "      <td>999</td>\n",
       "      <td>507</td>\n",
       "      <td>996</td>\n",
       "      <td>9</td>\n",
       "      <td>None</td>\n",
       "      <td>None</td>\n",
       "      <td>Solo_Insulin</td>\n",
       "    </tr>\n",
       "    <tr>\n",
       "      <th>4</th>\n",
       "      <td>84222</td>\n",
       "      <td>108662661</td>\n",
       "      <td>Caucasian</td>\n",
       "      <td>Female</td>\n",
       "      <td>[50-60)</td>\n",
       "      <td>?</td>\n",
       "      <td>1</td>\n",
       "      <td>1</td>\n",
       "      <td>7</td>\n",
       "      <td>3</td>\n",
       "      <td>...</td>\n",
       "      <td>0</td>\n",
       "      <td>0</td>\n",
       "      <td>0</td>\n",
       "      <td>682</td>\n",
       "      <td>174</td>\n",
       "      <td>250</td>\n",
       "      <td>3</td>\n",
       "      <td>None</td>\n",
       "      <td>None</td>\n",
       "      <td>Drug</td>\n",
       "    </tr>\n",
       "  </tbody>\n",
       "</table></div>"
      ],
      "text/plain": [
       "   encounter_id  patient_nbr             race  gender      age weight  \\\n",
       "0         64410     86047875  AfricanAmerican  Female  [20-30)      ?   \n",
       "1        500364     82442376        Caucasian    Male  [30-40)      ?   \n",
       "2         42570     77586282        Caucasian    Male  [80-90)      ?   \n",
       "3         73578     86328819  AfricanAmerican    Male  [60-70)      ?   \n",
       "4         84222    108662661        Caucasian  Female  [50-60)      ?   \n",
       "\n",
       "   admission_type_id  discharge_disposition_id  admission_source_id  \\\n",
       "0                  1                         1                    7   \n",
       "1                  1                         1                    7   \n",
       "2                  1                         6                    7   \n",
       "3                  1                         3                    7   \n",
       "4                  1                         1                    7   \n",
       "\n",
       "   time_in_hospital  ... number_outpatient number_emergency  number_inpatient  \\\n",
       "0                 2  ...                 2                0                 1   \n",
       "1                 2  ...                 0                0                 0   \n",
       "2                10  ...                 0                0                 0   \n",
       "3                12  ...                 0                0                 0   \n",
       "4                 3  ...                 0                0                 0   \n",
       "\n",
       "   diag_1  diag_2  diag_3  number_diagnoses  max_glu_serum A1Cresult  \\\n",
       "0     648     250     V27                 6           None      None   \n",
       "1       8  250.43     403                 7           None      None   \n",
       "2     428     411     427                 8           None      None   \n",
       "3     999     507     996                 9           None      None   \n",
       "4     682     174     250                 3           None      None   \n",
       "\n",
       "         Target  \n",
       "0          Drug  \n",
       "1  Solo_Insulin  \n",
       "2  Solo_Insulin  \n",
       "3  Solo_Insulin  \n",
       "4          Drug  \n",
       "\n",
       "[5 rows x 25 columns]"
      ]
     },
     "execution_count": 2,
     "metadata": {},
     "output_type": "execute_result"
    }
   ],
   "source": [
    "df = pd.read_csv('Treatment Prediciton.csv')\n",
    "df.head()"
   ]
  },
  {
   "cell_type": "code",
   "execution_count": 3,
   "metadata": {},
   "outputs": [
    {
     "data": {
      "text/plain": [
       "Index(['encounter_id', 'patient_nbr', 'race', 'gender', 'age', 'weight',\n",
       "       'admission_type_id', 'discharge_disposition_id', 'admission_source_id',\n",
       "       'time_in_hospital', 'payer_code', 'medical_specialty',\n",
       "       'num_lab_procedures', 'num_procedures', 'num_medications',\n",
       "       'number_outpatient', 'number_emergency', 'number_inpatient', 'diag_1',\n",
       "       'diag_2', 'diag_3', 'number_diagnoses', 'max_glu_serum', 'A1Cresult',\n",
       "       'Target'],\n",
       "      dtype='object')"
      ]
     },
     "execution_count": 3,
     "metadata": {},
     "output_type": "execute_result"
    }
   ],
   "source": [
    "df.columns"
   ]
  },
  {
   "cell_type": "code",
   "execution_count": 4,
   "metadata": {},
   "outputs": [
    {
     "data": {
      "text/html": [
       "<div><div id=3a0d279c-81f3-44d6-b740-9795170ecb71 style=\"display:none; background-color:#9D6CFF; color:white; width:200px; height:30px; padding-left:5px; border-radius:4px; flex-direction:row; justify-content:space-around; align-items:center;\" onmouseover=\"this.style.backgroundColor='#BA9BF8'\" onmouseout=\"this.style.backgroundColor='#9D6CFF'\" onclick=\"window.commands?.execute('create-mitosheet-from-dataframe-output');\">See Full Dataframe in Mito</div> <script> if (window.commands.hasCommand('create-mitosheet-from-dataframe-output')) document.getElementById('3a0d279c-81f3-44d6-b740-9795170ecb71').style.display = 'flex' </script> <table border=\"1\" class=\"dataframe\">\n",
       "  <thead>\n",
       "    <tr style=\"text-align: right;\">\n",
       "      <th></th>\n",
       "      <th>encounter_id</th>\n",
       "      <th>patient_nbr</th>\n",
       "      <th>admission_type_id</th>\n",
       "      <th>discharge_disposition_id</th>\n",
       "      <th>admission_source_id</th>\n",
       "      <th>time_in_hospital</th>\n",
       "      <th>num_lab_procedures</th>\n",
       "      <th>num_procedures</th>\n",
       "      <th>num_medications</th>\n",
       "      <th>number_outpatient</th>\n",
       "      <th>number_emergency</th>\n",
       "      <th>number_inpatient</th>\n",
       "      <th>number_diagnoses</th>\n",
       "    </tr>\n",
       "  </thead>\n",
       "  <tbody>\n",
       "    <tr>\n",
       "      <th>count</th>\n",
       "      <td>2.848300e+04</td>\n",
       "      <td>2.848300e+04</td>\n",
       "      <td>28483.000000</td>\n",
       "      <td>28483.000000</td>\n",
       "      <td>28483.000000</td>\n",
       "      <td>28483.000000</td>\n",
       "      <td>28483.000000</td>\n",
       "      <td>28483.000000</td>\n",
       "      <td>28483.000000</td>\n",
       "      <td>28483.000000</td>\n",
       "      <td>28483.000000</td>\n",
       "      <td>28483.000000</td>\n",
       "      <td>28483.000000</td>\n",
       "    </tr>\n",
       "    <tr>\n",
       "      <th>mean</th>\n",
       "      <td>1.671593e+08</td>\n",
       "      <td>5.098437e+07</td>\n",
       "      <td>2.038479</td>\n",
       "      <td>3.829091</td>\n",
       "      <td>5.639785</td>\n",
       "      <td>4.213847</td>\n",
       "      <td>42.199031</td>\n",
       "      <td>1.376786</td>\n",
       "      <td>15.647053</td>\n",
       "      <td>0.298073</td>\n",
       "      <td>0.118070</td>\n",
       "      <td>0.412176</td>\n",
       "      <td>7.182565</td>\n",
       "    </tr>\n",
       "    <tr>\n",
       "      <th>std</th>\n",
       "      <td>1.070876e+08</td>\n",
       "      <td>4.006126e+07</td>\n",
       "      <td>1.435183</td>\n",
       "      <td>5.414301</td>\n",
       "      <td>4.118983</td>\n",
       "      <td>2.958212</td>\n",
       "      <td>20.169810</td>\n",
       "      <td>1.722195</td>\n",
       "      <td>8.066531</td>\n",
       "      <td>1.065698</td>\n",
       "      <td>0.524183</td>\n",
       "      <td>0.906736</td>\n",
       "      <td>2.053944</td>\n",
       "    </tr>\n",
       "    <tr>\n",
       "      <th>min</th>\n",
       "      <td>4.257000e+04</td>\n",
       "      <td>7.290000e+02</td>\n",
       "      <td>1.000000</td>\n",
       "      <td>1.000000</td>\n",
       "      <td>1.000000</td>\n",
       "      <td>1.000000</td>\n",
       "      <td>1.000000</td>\n",
       "      <td>0.000000</td>\n",
       "      <td>1.000000</td>\n",
       "      <td>0.000000</td>\n",
       "      <td>0.000000</td>\n",
       "      <td>0.000000</td>\n",
       "      <td>1.000000</td>\n",
       "    </tr>\n",
       "    <tr>\n",
       "      <th>25%</th>\n",
       "      <td>8.295239e+07</td>\n",
       "      <td>1.975219e+07</td>\n",
       "      <td>1.000000</td>\n",
       "      <td>1.000000</td>\n",
       "      <td>1.000000</td>\n",
       "      <td>2.000000</td>\n",
       "      <td>30.000000</td>\n",
       "      <td>0.000000</td>\n",
       "      <td>10.000000</td>\n",
       "      <td>0.000000</td>\n",
       "      <td>0.000000</td>\n",
       "      <td>0.000000</td>\n",
       "      <td>5.000000</td>\n",
       "    </tr>\n",
       "    <tr>\n",
       "      <th>50%</th>\n",
       "      <td>1.504489e+08</td>\n",
       "      <td>4.173410e+07</td>\n",
       "      <td>1.000000</td>\n",
       "      <td>1.000000</td>\n",
       "      <td>7.000000</td>\n",
       "      <td>3.000000</td>\n",
       "      <td>43.000000</td>\n",
       "      <td>1.000000</td>\n",
       "      <td>14.000000</td>\n",
       "      <td>0.000000</td>\n",
       "      <td>0.000000</td>\n",
       "      <td>0.000000</td>\n",
       "      <td>8.000000</td>\n",
       "    </tr>\n",
       "    <tr>\n",
       "      <th>75%</th>\n",
       "      <td>2.397768e+08</td>\n",
       "      <td>8.545104e+07</td>\n",
       "      <td>3.000000</td>\n",
       "      <td>3.000000</td>\n",
       "      <td>7.000000</td>\n",
       "      <td>6.000000</td>\n",
       "      <td>56.000000</td>\n",
       "      <td>2.000000</td>\n",
       "      <td>20.000000</td>\n",
       "      <td>0.000000</td>\n",
       "      <td>0.000000</td>\n",
       "      <td>1.000000</td>\n",
       "      <td>9.000000</td>\n",
       "    </tr>\n",
       "    <tr>\n",
       "      <th>max</th>\n",
       "      <td>4.438478e+08</td>\n",
       "      <td>1.895026e+08</td>\n",
       "      <td>8.000000</td>\n",
       "      <td>28.000000</td>\n",
       "      <td>22.000000</td>\n",
       "      <td>14.000000</td>\n",
       "      <td>121.000000</td>\n",
       "      <td>6.000000</td>\n",
       "      <td>69.000000</td>\n",
       "      <td>29.000000</td>\n",
       "      <td>25.000000</td>\n",
       "      <td>16.000000</td>\n",
       "      <td>16.000000</td>\n",
       "    </tr>\n",
       "  </tbody>\n",
       "</table></div>"
      ],
      "text/plain": [
       "       encounter_id   patient_nbr  admission_type_id  \\\n",
       "count  2.848300e+04  2.848300e+04       28483.000000   \n",
       "mean   1.671593e+08  5.098437e+07           2.038479   \n",
       "std    1.070876e+08  4.006126e+07           1.435183   \n",
       "min    4.257000e+04  7.290000e+02           1.000000   \n",
       "25%    8.295239e+07  1.975219e+07           1.000000   \n",
       "50%    1.504489e+08  4.173410e+07           1.000000   \n",
       "75%    2.397768e+08  8.545104e+07           3.000000   \n",
       "max    4.438478e+08  1.895026e+08           8.000000   \n",
       "\n",
       "       discharge_disposition_id  admission_source_id  time_in_hospital  \\\n",
       "count              28483.000000         28483.000000      28483.000000   \n",
       "mean                   3.829091             5.639785          4.213847   \n",
       "std                    5.414301             4.118983          2.958212   \n",
       "min                    1.000000             1.000000          1.000000   \n",
       "25%                    1.000000             1.000000          2.000000   \n",
       "50%                    1.000000             7.000000          3.000000   \n",
       "75%                    3.000000             7.000000          6.000000   \n",
       "max                   28.000000            22.000000         14.000000   \n",
       "\n",
       "       num_lab_procedures  num_procedures  num_medications  number_outpatient  \\\n",
       "count        28483.000000    28483.000000     28483.000000       28483.000000   \n",
       "mean            42.199031        1.376786        15.647053           0.298073   \n",
       "std             20.169810        1.722195         8.066531           1.065698   \n",
       "min              1.000000        0.000000         1.000000           0.000000   \n",
       "25%             30.000000        0.000000        10.000000           0.000000   \n",
       "50%             43.000000        1.000000        14.000000           0.000000   \n",
       "75%             56.000000        2.000000        20.000000           0.000000   \n",
       "max            121.000000        6.000000        69.000000          29.000000   \n",
       "\n",
       "       number_emergency  number_inpatient  number_diagnoses  \n",
       "count      28483.000000      28483.000000      28483.000000  \n",
       "mean           0.118070          0.412176          7.182565  \n",
       "std            0.524183          0.906736          2.053944  \n",
       "min            0.000000          0.000000          1.000000  \n",
       "25%            0.000000          0.000000          5.000000  \n",
       "50%            0.000000          0.000000          8.000000  \n",
       "75%            0.000000          1.000000          9.000000  \n",
       "max           25.000000         16.000000         16.000000  "
      ]
     },
     "execution_count": 4,
     "metadata": {},
     "output_type": "execute_result"
    }
   ],
   "source": [
    "df.describe()"
   ]
  },
  {
   "cell_type": "code",
   "execution_count": 5,
   "metadata": {},
   "outputs": [
    {
     "data": {
      "text/plain": [
       "encounter_id                0\n",
       "patient_nbr                 0\n",
       "race                        0\n",
       "gender                      0\n",
       "age                         0\n",
       "weight                      0\n",
       "admission_type_id           0\n",
       "discharge_disposition_id    0\n",
       "admission_source_id         0\n",
       "time_in_hospital            0\n",
       "payer_code                  0\n",
       "medical_specialty           0\n",
       "num_lab_procedures          0\n",
       "num_procedures              0\n",
       "num_medications             0\n",
       "number_outpatient           0\n",
       "number_emergency            0\n",
       "number_inpatient            0\n",
       "diag_1                      0\n",
       "diag_2                      0\n",
       "diag_3                      0\n",
       "number_diagnoses            0\n",
       "max_glu_serum               0\n",
       "A1Cresult                   0\n",
       "Target                      0\n",
       "dtype: int64"
      ]
     },
     "execution_count": 5,
     "metadata": {},
     "output_type": "execute_result"
    }
   ],
   "source": [
    "df.isna().sum()"
   ]
  },
  {
   "cell_type": "code",
   "execution_count": 6,
   "metadata": {},
   "outputs": [
    {
     "data": {
      "text/plain": [
       "(28483, 25)"
      ]
     },
     "execution_count": 6,
     "metadata": {},
     "output_type": "execute_result"
    }
   ],
   "source": [
    "df.shape"
   ]
  },
  {
   "cell_type": "code",
   "execution_count": 7,
   "metadata": {},
   "outputs": [],
   "source": [
    "df = df.replace('?',np.nan)"
   ]
  },
  {
   "cell_type": "code",
   "execution_count": 8,
   "metadata": {},
   "outputs": [
    {
     "data": {
      "text/plain": [
       "encounter_id                    0\n",
       "patient_nbr                     0\n",
       "race                          834\n",
       "gender                          0\n",
       "age                             0\n",
       "weight                      27772\n",
       "admission_type_id               0\n",
       "discharge_disposition_id        0\n",
       "admission_source_id             0\n",
       "time_in_hospital                0\n",
       "payer_code                  11495\n",
       "medical_specialty           13406\n",
       "num_lab_procedures              0\n",
       "num_procedures                  0\n",
       "num_medications                 0\n",
       "number_outpatient               0\n",
       "number_emergency                0\n",
       "number_inpatient                0\n",
       "diag_1                          3\n",
       "diag_2                        171\n",
       "diag_3                        585\n",
       "number_diagnoses                0\n",
       "max_glu_serum                   0\n",
       "A1Cresult                       0\n",
       "Target                          0\n",
       "dtype: int64"
      ]
     },
     "execution_count": 8,
     "metadata": {},
     "output_type": "execute_result"
    }
   ],
   "source": [
    "df.isna().sum()"
   ]
  },
  {
   "cell_type": "code",
   "execution_count": 9,
   "metadata": {},
   "outputs": [
    {
     "name": "stdout",
     "output_type": "stream",
     "text": [
      "encounter_id : 0.0 % of missing values\n",
      "patient_nbr : 0.0 % of missing values\n",
      "race : 2.93 % of missing values\n",
      "gender : 0.0 % of missing values\n",
      "age : 0.0 % of missing values\n",
      "weight : 97.5 % of missing values\n",
      "admission_type_id : 0.0 % of missing values\n",
      "discharge_disposition_id : 0.0 % of missing values\n",
      "admission_source_id : 0.0 % of missing values\n",
      "time_in_hospital : 0.0 % of missing values\n",
      "payer_code : 40.36 % of missing values\n",
      "medical_specialty : 47.07 % of missing values\n",
      "num_lab_procedures : 0.0 % of missing values\n",
      "num_procedures : 0.0 % of missing values\n",
      "num_medications : 0.0 % of missing values\n",
      "number_outpatient : 0.0 % of missing values\n",
      "number_emergency : 0.0 % of missing values\n",
      "number_inpatient : 0.0 % of missing values\n",
      "diag_1 : 0.01 % of missing values\n",
      "diag_2 : 0.6 % of missing values\n",
      "diag_3 : 2.05 % of missing values\n",
      "number_diagnoses : 0.0 % of missing values\n",
      "max_glu_serum : 0.0 % of missing values\n",
      "A1Cresult : 0.0 % of missing values\n",
      "Target : 0.0 % of missing values\n"
     ]
    }
   ],
   "source": [
    "\n",
    "for column in df.columns:\n",
    "    print(column,':',round(df[column].isnull().sum()/df.shape[0] * 100, ndigits=2),'% of missing values')"
   ]
  },
  {
   "cell_type": "markdown",
   "metadata": {},
   "source": [
    "weight, medical_specialty and payer code has higher percentage of missing values"
   ]
  },
  {
   "cell_type": "code",
   "execution_count": 10,
   "metadata": {},
   "outputs": [
    {
     "name": "stdout",
     "output_type": "stream",
     "text": [
      "encounter_id : 28483\n",
      "patient_nbr : 28469\n",
      "race : 5\n",
      "gender : 3\n",
      "age : 10\n",
      "weight : 8\n",
      "admission_type_id : 8\n",
      "discharge_disposition_id : 25\n",
      "admission_source_id : 16\n",
      "time_in_hospital : 14\n",
      "payer_code : 17\n",
      "medical_specialty : 63\n",
      "num_lab_procedures : 113\n",
      "num_procedures : 7\n",
      "num_medications : 68\n",
      "number_outpatient : 23\n",
      "number_emergency : 14\n",
      "number_inpatient : 14\n",
      "diag_1 : 591\n",
      "diag_2 : 599\n",
      "diag_3 : 646\n",
      "number_diagnoses : 16\n",
      "max_glu_serum : 4\n",
      "A1Cresult : 4\n",
      "Target : 2\n"
     ]
    }
   ],
   "source": [
    "for col in df.columns:\n",
    "    print(col,':',df[col].nunique())"
   ]
  },
  {
   "cell_type": "markdown",
   "metadata": {},
   "source": [
    "checking the columns values which has unique values upto 25"
   ]
  },
  {
   "cell_type": "code",
   "execution_count": 11,
   "metadata": {},
   "outputs": [
    {
     "name": "stdout",
     "output_type": "stream",
     "text": [
      "race - ['AfricanAmerican' 'Caucasian' nan 'Other' 'Asian' 'Hispanic']\n",
      "gender - ['Female' 'Male' 'Unknown/Invalid']\n",
      "age - ['[20-30)' '[30-40)' '[80-90)' '[60-70)' '[50-60)' '[70-80)' '[40-50)'\n",
      " '[10-20)' '[0-10)' '[90-100)']\n",
      "weight - [nan '[75-100)' '[50-75)' '[0-25)' '[125-150)' '[25-50)' '[100-125)'\n",
      " '[150-175)' '[175-200)']\n",
      "admission_type_id - [1 2 3 6 4 5 8 7]\n",
      "discharge_disposition_id - [ 1  6  3 11  5  2 25 10  7  4  8 14 13 18 22 23 16 17 20  9 15 28 19 24\n",
      " 27]\n",
      "admission_source_id - [ 7  4  2  1 20 17  8  6  5  3  9 14 10 11 22 13]\n",
      "time_in_hospital - [ 2 10 12  3  1  6  5  7  4  9  8 14 11 13]\n",
      "payer_code - [nan 'MC' 'UN' 'BC' 'CP' 'HM' 'MD' 'CM' 'SP' 'DM' 'PO' 'WC' 'SI' 'CH' 'OG'\n",
      " 'OT' 'MP' 'FR']\n",
      "num_procedures - [5 1 0 3 2 4 6]\n",
      "number_outpatient - [ 2  0  1  3  4  8  5 11 15  6 10  7  9 12 29 14 21 13 17 16 25 20 24]\n",
      "number_emergency - [ 0  1  2  6  8 25  3  4  5  7 11 12 20 16]\n",
      "number_inpatient - [ 1  0  5  2  3  4  8  7  6  9 10 12 16 13]\n",
      "number_diagnoses - [ 6  7  8  9  3  5  1  4  2 13 10 12 16 15 11 14]\n",
      "max_glu_serum - ['None' '>300' 'Norm' '>200']\n",
      "A1Cresult - ['None' '>7' '>8' 'Norm']\n",
      "Target - ['Drug' 'Solo_Insulin']\n"
     ]
    }
   ],
   "source": [
    "for col in df.columns:\n",
    "    if len(df[col].unique()) <= 25:\n",
    "        print(col,'-',df[col].unique())"
   ]
  },
  {
   "cell_type": "markdown",
   "metadata": {},
   "source": [
    "filtering the columns containing the word id"
   ]
  },
  {
   "cell_type": "code",
   "execution_count": 12,
   "metadata": {},
   "outputs": [
    {
     "data": {
      "text/plain": [
       "['encounter_id',\n",
       " 'admission_type_id',\n",
       " 'discharge_disposition_id',\n",
       " 'admission_source_id']"
      ]
     },
     "execution_count": 12,
     "metadata": {},
     "output_type": "execute_result"
    }
   ],
   "source": [
    "cols_with_id = []\n",
    "for col in df.columns:\n",
    "    if 'id' in col:\n",
    "        cols_with_id.append(col)\n",
    "\n",
    "cols_with_id"
   ]
  },
  {
   "cell_type": "markdown",
   "metadata": {},
   "source": [
    "# Race"
   ]
  },
  {
   "cell_type": "code",
   "execution_count": 13,
   "metadata": {},
   "outputs": [
    {
     "data": {
      "text/html": [
       "<div><div id=a2641e65-0062-465c-bf13-84c4c87fcdf8 style=\"display:none; background-color:#9D6CFF; color:white; width:200px; height:30px; padding-left:5px; border-radius:4px; flex-direction:row; justify-content:space-around; align-items:center;\" onmouseover=\"this.style.backgroundColor='#BA9BF8'\" onmouseout=\"this.style.backgroundColor='#9D6CFF'\" onclick=\"window.commands?.execute('create-mitosheet-from-dataframe-output');\">See Full Dataframe in Mito</div> <script> if (window.commands.hasCommand('create-mitosheet-from-dataframe-output')) document.getElementById('a2641e65-0062-465c-bf13-84c4c87fcdf8').style.display = 'flex' </script> <table border=\"1\" class=\"dataframe\">\n",
       "  <thead>\n",
       "    <tr style=\"text-align: right;\">\n",
       "      <th></th>\n",
       "      <th>race</th>\n",
       "    </tr>\n",
       "  </thead>\n",
       "  <tbody>\n",
       "    <tr>\n",
       "      <th>Caucasian</th>\n",
       "      <td>20918</td>\n",
       "    </tr>\n",
       "    <tr>\n",
       "      <th>AfricanAmerican</th>\n",
       "      <td>5464</td>\n",
       "    </tr>\n",
       "    <tr>\n",
       "      <th>Hispanic</th>\n",
       "      <td>568</td>\n",
       "    </tr>\n",
       "    <tr>\n",
       "      <th>Other</th>\n",
       "      <td>491</td>\n",
       "    </tr>\n",
       "    <tr>\n",
       "      <th>Asian</th>\n",
       "      <td>208</td>\n",
       "    </tr>\n",
       "  </tbody>\n",
       "</table></div>"
      ],
      "text/plain": [
       "                  race\n",
       "Caucasian        20918\n",
       "AfricanAmerican   5464\n",
       "Hispanic           568\n",
       "Other              491\n",
       "Asian              208"
      ]
     },
     "execution_count": 13,
     "metadata": {},
     "output_type": "execute_result"
    }
   ],
   "source": [
    "race_values_count = df['race'].value_counts()\n",
    "race_values_count = pd.DataFrame(race_values_count)\n",
    "race_values_count"
   ]
  },
  {
   "cell_type": "code",
   "execution_count": 14,
   "metadata": {},
   "outputs": [
    {
     "data": {
      "image/png": "[encoded data removed]",
      "text/plain": [
       "<Figure size 720x720 with 1 Axes>"
      ]
     },
     "metadata": {
      "needs_background": "light"
     },
     "output_type": "display_data"
    }
   ],
   "source": [
    "plt.figure(figsize=(10,10))\n",
    "sns.barplot(x=race_values_count.index, y=race_values_count.race)\n",
    "plt.title('Race')\n",
    "plt.xlabel('Race')\n",
    "plt.ylabel('Counts')\n",
    "plt.show()"
   ]
  },
  {
   "cell_type": "code",
   "execution_count": 15,
   "metadata": {},
   "outputs": [
    {
     "data": {
      "image/png": "[encoded data removed]",
      "text/plain": [
       "<Figure size 432x288 with 1 Axes>"
      ]
     },
     "metadata": {
      "needs_background": "light"
     },
     "output_type": "display_data"
    },
    {
     "data": {
      "image/png": "[encoded data removed]",
      "text/plain": [
       "<Figure size 432x288 with 1 Axes>"
      ]
     },
     "metadata": {
      "needs_background": "light"
     },
     "output_type": "display_data"
    },
    {
     "data": {
      "image/png": "[encoded data removed]",
      "text/plain": [
       "<Figure size 432x288 with 1 Axes>"
      ]
     },
     "metadata": {
      "needs_background": "light"
     },
     "output_type": "display_data"
    },
    {
     "data": {
      "image/png": "[encoded data removed]",
      "text/plain": [
       "<Figure size 432x288 with 1 Axes>"
      ]
     },
     "metadata": {
      "needs_background": "light"
     },
     "output_type": "display_data"
    },
    {
     "data": {
      "image/png": "[encoded data removed]",
      "text/plain": [
       "<Figure size 432x288 with 1 Axes>"
      ]
     },
     "metadata": {
      "needs_background": "light"
     },
     "output_type": "display_data"
    }
   ],
   "source": [
    "for race in race_values_count.index:\n",
    "    data = df.copy()\n",
    "\n",
    "    data = data[data['race'] == race]\n",
    "    data = pd.DataFrame(data.groupby('Target')['race'].count().reset_index())\n",
    "\n",
    "    sns.barplot(data.Target,data.race)\n",
    "    plt.title(race)\n",
    "    plt.show()"
   ]
  },
  {
   "cell_type": "markdown",
   "metadata": {},
   "source": [
    "# Gender"
   ]
  },
  {
   "cell_type": "code",
   "execution_count": 16,
   "metadata": {},
   "outputs": [
    {
     "data": {
      "text/plain": [
       "Female             15002\n",
       "Male               13479\n",
       "Unknown/Invalid        2\n",
       "Name: gender, dtype: int64"
      ]
     },
     "execution_count": 16,
     "metadata": {},
     "output_type": "execute_result"
    }
   ],
   "source": [
    "gender_values_count = df['gender'].value_counts()\n",
    "gender_values_count"
   ]
  },
  {
   "cell_type": "code",
   "execution_count": 17,
   "metadata": {},
   "outputs": [
    {
     "data": {
      "text/html": [
       "<div><div id=a5235f05-3005-47b3-8d51-c9f79c908b05 style=\"display:none; background-color:#9D6CFF; color:white; width:200px; height:30px; padding-left:5px; border-radius:4px; flex-direction:row; justify-content:space-around; align-items:center;\" onmouseover=\"this.style.backgroundColor='#BA9BF8'\" onmouseout=\"this.style.backgroundColor='#9D6CFF'\" onclick=\"window.commands?.execute('create-mitosheet-from-dataframe-output');\">See Full Dataframe in Mito</div> <script> if (window.commands.hasCommand('create-mitosheet-from-dataframe-output')) document.getElementById('a5235f05-3005-47b3-8d51-c9f79c908b05').style.display = 'flex' </script> <table border=\"1\" class=\"dataframe\">\n",
       "  <thead>\n",
       "    <tr style=\"text-align: right;\">\n",
       "      <th></th>\n",
       "      <th>medical_specialty</th>\n",
       "    </tr>\n",
       "  </thead>\n",
       "  <tbody>\n",
       "    <tr>\n",
       "      <th>InternalMedicine</th>\n",
       "      <td>4348</td>\n",
       "    </tr>\n",
       "    <tr>\n",
       "      <th>Family/GeneralPractice</th>\n",
       "      <td>2094</td>\n",
       "    </tr>\n",
       "    <tr>\n",
       "      <th>Emergency/Trauma</th>\n",
       "      <td>1789</td>\n",
       "    </tr>\n",
       "    <tr>\n",
       "      <th>Cardiology</th>\n",
       "      <td>1592</td>\n",
       "    </tr>\n",
       "    <tr>\n",
       "      <th>Surgery-General</th>\n",
       "      <td>812</td>\n",
       "    </tr>\n",
       "    <tr>\n",
       "      <th>...</th>\n",
       "      <td>...</td>\n",
       "    </tr>\n",
       "    <tr>\n",
       "      <th>Cardiology-Pediatric</th>\n",
       "      <td>1</td>\n",
       "    </tr>\n",
       "    <tr>\n",
       "      <th>Speech</th>\n",
       "      <td>1</td>\n",
       "    </tr>\n",
       "    <tr>\n",
       "      <th>PhysicianNotFound</th>\n",
       "      <td>1</td>\n",
       "    </tr>\n",
       "    <tr>\n",
       "      <th>Dentistry</th>\n",
       "      <td>1</td>\n",
       "    </tr>\n",
       "    <tr>\n",
       "      <th>Proctology</th>\n",
       "      <td>1</td>\n",
       "    </tr>\n",
       "  </tbody>\n",
       "</table></div>"
      ],
      "text/plain": [
       "                        medical_specialty\n",
       "InternalMedicine                     4348\n",
       "Family/GeneralPractice               2094\n",
       "Emergency/Trauma                     1789\n",
       "Cardiology                           1592\n",
       "Surgery-General                       812\n",
       "...                                   ...\n",
       "Cardiology-Pediatric                    1\n",
       "Speech                                  1\n",
       "PhysicianNotFound                       1\n",
       "Dentistry                               1\n",
       "Proctology                              1\n",
       "\n",
       "[63 rows x 1 columns]"
      ]
     },
     "execution_count": 17,
     "metadata": {},
     "output_type": "execute_result"
    }
   ],
   "source": [
    "medical_values_count = df['medical_specialty'].value_counts()\n",
    "medical_values_count = pd.DataFrame(medical_values_count)\n",
    "medical_values_count"
   ]
  },
  {
   "cell_type": "code",
   "execution_count": 18,
   "metadata": {},
   "outputs": [
    {
     "data": {
      "image/png": "[encoded data removed]",
      "text/plain": [
       "<Figure size 1080x720 with 1 Axes>"
      ]
     },
     "metadata": {
      "needs_background": "light"
     },
     "output_type": "display_data"
    }
   ],
   "source": [
    "plt.figure(figsize=(15,10))\n",
    "sns.barplot(x=medical_values_count.index, y=medical_values_count.medical_specialty)\n",
    "plt.title('Race')\n",
    "plt.xlabel('Race')\n",
    "plt.ylabel('Counts')\n",
    "plt.xticks(rotation=90)\n",
    "plt.show()"
   ]
  },
  {
   "cell_type": "code",
   "execution_count": 19,
   "metadata": {},
   "outputs": [
    {
     "data": {
      "text/plain": [
       "(13406, 25)"
      ]
     },
     "execution_count": 19,
     "metadata": {},
     "output_type": "execute_result"
    }
   ],
   "source": [
    "df[df['medical_specialty'].isna()].shape"
   ]
  },
  {
   "cell_type": "markdown",
   "metadata": {},
   "source": [
    "check the impact of null values on target variables"
   ]
  },
  {
   "cell_type": "code",
   "execution_count": 20,
   "metadata": {},
   "outputs": [
    {
     "data": {
      "text/plain": [
       "<AxesSubplot:xlabel='medical_specialty'>"
      ]
     },
     "execution_count": 20,
     "metadata": {},
     "output_type": "execute_result"
    },
    {
     "data": {
      "image/png": "[encoded data removed]",
      "text/plain": [
       "<Figure size 432x288 with 1 Axes>"
      ]
     },
     "metadata": {
      "needs_background": "light"
     },
     "output_type": "display_data"
    }
   ],
   "source": [
    "data = df.copy()\n",
    "data['medical_specialty'] = np.where(data['medical_specialty'].isnull(),1,0)\n",
    "data.groupby('medical_specialty')['Target'].count().plot.bar()"
   ]
  },
  {
   "cell_type": "markdown",
   "metadata": {},
   "source": [
    "# lab procedures"
   ]
  },
  {
   "cell_type": "code",
   "execution_count": 21,
   "metadata": {},
   "outputs": [
    {
     "data": {
      "text/plain": [
       "array([ 11,  44,  55,  75,  29,  66,  33,  64,  46,  72,  10,  65,  54,\n",
       "        58,  36,  51,  25,  35,  53,  56,  73,  22,  59,  31,  96,  39,\n",
       "        48,  61,  70,   1,  18,  34,  45,  47,  57,  19,  41,  71,   2,\n",
       "        37,  50,  60,  81,  67,  93, 103,  62,  68,  30,  52,  78,  69,\n",
       "        49,  17,  43,  21,  95,  97,  14,  79,  23,  76,  63,  13,  28,\n",
       "        40,  74,  38,  42,  86,  32,  20,   5,  27,  80,   6,  77,   8,\n",
       "       100,   9,  15,  24,  12,  82,  92,  91,  83,  84,   4,  16,  89,\n",
       "       101,  26,  88, 102,  94,  87,  90,  85,   3, 114,   7,  98, 105,\n",
       "       111, 107, 106, 120, 109, 113, 108,  99, 121], dtype=int64)"
      ]
     },
     "execution_count": 21,
     "metadata": {},
     "output_type": "execute_result"
    }
   ],
   "source": [
    "df['num_lab_procedures'].unique()"
   ]
  },
  {
   "cell_type": "markdown",
   "metadata": {},
   "source": [
    "There is no information about this feature. am assuming it means that the number of procedures were performed."
   ]
  },
  {
   "cell_type": "code",
   "execution_count": 22,
   "metadata": {},
   "outputs": [
    {
     "data": {
      "image/png": "[encoded data removed]",
      "text/plain": [
       "<Figure size 1440x720 with 1 Axes>"
      ]
     },
     "metadata": {
      "needs_background": "light"
     },
     "output_type": "display_data"
    }
   ],
   "source": [
    "data = df.copy()\n",
    "\n",
    "plt.figure(figsize=(20,10))\n",
    "data.groupby('num_lab_procedures')['Target'].count().plot.bar()\n",
    "plt.xticks(rotation=90)\n",
    "plt.show()"
   ]
  },
  {
   "cell_type": "markdown",
   "metadata": {},
   "source": [
    "# Procedures"
   ]
  },
  {
   "cell_type": "code",
   "execution_count": 23,
   "metadata": {},
   "outputs": [
    {
     "data": {
      "text/plain": [
       "array([5, 1, 0, 3, 2, 4, 6], dtype=int64)"
      ]
     },
     "execution_count": 23,
     "metadata": {},
     "output_type": "execute_result"
    }
   ],
   "source": [
    "df['num_procedures'].unique()"
   ]
  },
  {
   "cell_type": "code",
   "execution_count": 24,
   "metadata": {},
   "outputs": [
    {
     "data": {
      "image/png": "[encoded data removed]",
      "text/plain": [
       "<Figure size 1440x720 with 1 Axes>"
      ]
     },
     "metadata": {
      "needs_background": "light"
     },
     "output_type": "display_data"
    }
   ],
   "source": [
    "data = df.copy()\n",
    "\n",
    "plt.figure(figsize=(20,10))\n",
    "data.groupby('num_procedures')['Target'].count().plot.bar()\n",
    "plt.show()"
   ]
  },
  {
   "cell_type": "markdown",
   "metadata": {},
   "source": [
    "There are most number of patients that didn't even took a single procedure."
   ]
  },
  {
   "cell_type": "markdown",
   "metadata": {},
   "source": [
    "Lets check on the age of the people with their repective num of procedures"
   ]
  },
  {
   "cell_type": "code",
   "execution_count": 25,
   "metadata": {},
   "outputs": [
    {
     "data": {
      "text/plain": [
       "<AxesSubplot:xlabel='max_age'>"
      ]
     },
     "execution_count": 25,
     "metadata": {},
     "output_type": "execute_result"
    },
    {
     "data": {
      "image/png": "[encoded data removed]",
      "text/plain": [
       "<Figure size 432x288 with 1 Axes>"
      ]
     },
     "metadata": {
      "needs_background": "light"
     },
     "output_type": "display_data"
    }
   ],
   "source": [
    "data = df.copy()\n",
    "\n",
    "data['age'] = data['age'].str.replace('[','').str.replace(')','')\n",
    "data[['min_age','max_age']] = data['age'].str.split('-',expand=True)\n",
    "\n",
    "data.groupby('max_age')['Target'].count().plot.bar()"
   ]
  },
  {
   "cell_type": "markdown",
   "metadata": {},
   "source": [
    "This says that the people with age of 60-80 are more likely to be diabetic."
   ]
  },
  {
   "cell_type": "code",
   "execution_count": 26,
   "metadata": {},
   "outputs": [],
   "source": [
    "data['max_age'] = pd.to_numeric(data['max_age'])"
   ]
  },
  {
   "cell_type": "code",
   "execution_count": 27,
   "metadata": {},
   "outputs": [
    {
     "data": {
      "image/png": "[encoded data removed]",
      "text/plain": [
       "<Figure size 432x288 with 1 Axes>"
      ]
     },
     "metadata": {
      "needs_background": "light"
     },
     "output_type": "display_data"
    }
   ],
   "source": [
    "for i in df['num_procedures'].unique():\n",
    "    temp_data = data[data['num_procedures'] == i]\n",
    "\n",
    "    plt.bar(x=i,height=temp_data['max_age'].mode()[0])\n",
    "\n",
    "plt.title('most group of age people treated for the num procedures')\n",
    "plt.xlabel('num procedure')\n",
    "plt.ylabel('Age')\n",
    "plt.show()"
   ]
  },
  {
   "cell_type": "markdown",
   "metadata": {},
   "source": [
    "patients that went through the most number of procedures are within the age group of 70-80"
   ]
  },
  {
   "cell_type": "markdown",
   "metadata": {},
   "source": [
    "# medications"
   ]
  },
  {
   "cell_type": "code",
   "execution_count": 28,
   "metadata": {},
   "outputs": [
    {
     "data": {
      "text/plain": [
       "array([13, 16, 31, 11, 19,  7, 18, 20,  8, 27,  4, 14,  9, 21, 10, 23,  6,\n",
       "       30, 17, 12, 26, 25,  5, 15,  3,  1, 28, 24, 61,  2, 33, 22, 36, 32,\n",
       "       29, 40, 37, 45, 49, 41, 38, 42, 35, 39, 34, 47, 43, 44, 46, 52, 51,\n",
       "       48, 53, 62, 50, 54, 57, 55, 56, 59, 63, 64, 69, 65, 60, 68, 58, 66],\n",
       "      dtype=int64)"
      ]
     },
     "execution_count": 28,
     "metadata": {},
     "output_type": "execute_result"
    }
   ],
   "source": [
    "df['num_medications'].unique()"
   ]
  },
  {
   "cell_type": "code",
   "execution_count": 29,
   "metadata": {},
   "outputs": [
    {
     "data": {
      "text/plain": [
       "68"
      ]
     },
     "execution_count": 29,
     "metadata": {},
     "output_type": "execute_result"
    }
   ],
   "source": [
    "len(df['num_medications'].unique())"
   ]
  },
  {
   "cell_type": "code",
   "execution_count": 30,
   "metadata": {},
   "outputs": [
    {
     "data": {
      "image/png": "[encoded data removed]",
      "text/plain": [
       "<Figure size 1440x720 with 1 Axes>"
      ]
     },
     "metadata": {
      "needs_background": "light"
     },
     "output_type": "display_data"
    }
   ],
   "source": [
    "data = df.copy()\n",
    "\n",
    "plt.figure(figsize=(20,10))\n",
    "data.groupby('num_medications')['Target'].count().plot.bar()\n",
    "plt.show()"
   ]
  },
  {
   "cell_type": "markdown",
   "metadata": {},
   "source": [
    "# Outpatients, Emergency, inpatient"
   ]
  },
  {
   "cell_type": "code",
   "execution_count": 32,
   "metadata": {},
   "outputs": [
    {
     "data": {
      "text/plain": [
       "array([ 2,  0,  1,  3,  4,  8,  5, 11, 15,  6, 10,  7,  9, 12, 29, 14, 21,\n",
       "       13, 17, 16, 25, 20, 24], dtype=int64)"
      ]
     },
     "execution_count": 32,
     "metadata": {},
     "output_type": "execute_result"
    }
   ],
   "source": [
    "df['number_outpatient'].unique()"
   ]
  },
  {
   "cell_type": "code",
   "execution_count": 33,
   "metadata": {},
   "outputs": [
    {
     "data": {
      "text/plain": [
       "array([ 0,  1,  2,  6,  8, 25,  3,  4,  5,  7, 11, 12, 20, 16],\n",
       "      dtype=int64)"
      ]
     },
     "execution_count": 33,
     "metadata": {},
     "output_type": "execute_result"
    }
   ],
   "source": [
    "df['number_emergency'].unique()"
   ]
  },
  {
   "cell_type": "code",
   "execution_count": 34,
   "metadata": {},
   "outputs": [
    {
     "data": {
      "text/plain": [
       "array([ 1,  0,  5,  2,  3,  4,  8,  7,  6,  9, 10, 12, 16, 13],\n",
       "      dtype=int64)"
      ]
     },
     "execution_count": 34,
     "metadata": {},
     "output_type": "execute_result"
    }
   ],
   "source": [
    "df['number_inpatient'].unique()"
   ]
  },
  {
   "cell_type": "code",
   "execution_count": 38,
   "metadata": {},
   "outputs": [
    {
     "data": {
      "text/plain": [
       "number_outpatient\n",
       "0     24643\n",
       "1      1915\n",
       "2       818\n",
       "3       525\n",
       "4       276\n",
       "5       118\n",
       "6        59\n",
       "7        28\n",
       "8        31\n",
       "9        19\n",
       "10       11\n",
       "11        9\n",
       "12        6\n",
       "13        7\n",
       "14        4\n",
       "15        2\n",
       "16        3\n",
       "17        2\n",
       "20        1\n",
       "21        3\n",
       "24        1\n",
       "25        1\n",
       "29        1\n",
       "Name: number_outpatient, dtype: int64"
      ]
     },
     "execution_count": 38,
     "metadata": {},
     "output_type": "execute_result"
    }
   ],
   "source": [
    "df.groupby('number_outpatient')['number_outpatient'].count()"
   ]
  },
  {
   "cell_type": "code",
   "execution_count": 39,
   "metadata": {},
   "outputs": [
    {
     "data": {
      "text/plain": [
       "number_emergency\n",
       "0     26157\n",
       "1      1741\n",
       "2       372\n",
       "3       126\n",
       "4        41\n",
       "5        21\n",
       "6         8\n",
       "7         4\n",
       "8         6\n",
       "11        2\n",
       "12        2\n",
       "16        1\n",
       "20        1\n",
       "25        1\n",
       "Name: number_emergency, dtype: int64"
      ]
     },
     "execution_count": 39,
     "metadata": {},
     "output_type": "execute_result"
    }
   ],
   "source": [
    "df.groupby('number_emergency')['number_emergency'].count()"
   ]
  },
  {
   "cell_type": "code",
   "execution_count": 40,
   "metadata": {},
   "outputs": [
    {
     "data": {
      "text/plain": [
       "number_inpatient\n",
       "0     21166\n",
       "1      4787\n",
       "2      1508\n",
       "3       593\n",
       "4       236\n",
       "5        89\n",
       "6        45\n",
       "7        30\n",
       "8         7\n",
       "9         8\n",
       "10        8\n",
       "12        3\n",
       "13        1\n",
       "16        2\n",
       "Name: number_inpatient, dtype: int64"
      ]
     },
     "execution_count": 40,
     "metadata": {},
     "output_type": "execute_result"
    }
   ],
   "source": [
    "df.groupby('number_inpatient')['number_inpatient'].count()"
   ]
  },
  {
   "cell_type": "markdown",
   "metadata": {},
   "source": [
    "**outpatient, emergency, inpatient** These three features seems to be some kind of code that used in a hospital for the patients these can be neglected since more than 80% of the records seems to be entered as zero."
   ]
  },
  {
   "cell_type": "markdown",
   "metadata": {},
   "source": [
    "# Diag 1, Diag 2, Diag 3"
   ]
  },
  {
   "cell_type": "markdown",
   "metadata": {},
   "source": [
    "diag_1, diag_2, diag_3 are three different factors used in identifying the diabetes they many different levels to indicate it."
   ]
  },
  {
   "cell_type": "code",
   "execution_count": 71,
   "metadata": {},
   "outputs": [
    {
     "name": "stdout",
     "output_type": "stream",
     "text": [
      "diag_1 - 592\n",
      "diag_2 - 600\n",
      "diag_3 - 647\n"
     ]
    }
   ],
   "source": [
    "print('diag_1 -',len(df['diag_1'].unique()))\n",
    "print('diag_2 -',len(df['diag_2'].unique()))\n",
    "print('diag_3 -',len(df['diag_3'].unique()))"
   ]
  },
  {
   "cell_type": "markdown",
   "metadata": {},
   "source": [
    "Top 50 Diag levels that is most commonly seen in the three features."
   ]
  },
  {
   "cell_type": "code",
   "execution_count": 70,
   "metadata": {},
   "outputs": [
    {
     "data": {
      "text/plain": [
       "<AxesSubplot:xlabel='diag_1', ylabel='Target'>"
      ]
     },
     "execution_count": 70,
     "metadata": {},
     "output_type": "execute_result"
    },
    {
     "data": {
      "image/png": "[encoded data removed]",
      "text/plain": [
       "<Figure size 1440x720 with 1 Axes>"
      ]
     },
     "metadata": {
      "needs_background": "light"
     },
     "output_type": "display_data"
    }
   ],
   "source": [
    "temp_data = df.groupby('diag_1')['Target'].count()\n",
    "temp_data = pd.DataFrame(temp_data)\n",
    "temp_data = temp_data.sort_values('Target',ascending = False)\n",
    "\n",
    "data = temp_data.head(50)\n",
    "plt.figure(figsize=(20,10))\n",
    "sns.barplot(x=data.index, y = data.Target)"
   ]
  },
  {
   "cell_type": "code",
   "execution_count": 72,
   "metadata": {},
   "outputs": [
    {
     "data": {
      "text/plain": [
       "<AxesSubplot:xlabel='diag_2', ylabel='Target'>"
      ]
     },
     "execution_count": 72,
     "metadata": {},
     "output_type": "execute_result"
    },
    {
     "data": {
      "image/png": "[encoded data removed]",
      "text/plain": [
       "<Figure size 1440x720 with 1 Axes>"
      ]
     },
     "metadata": {
      "needs_background": "light"
     },
     "output_type": "display_data"
    }
   ],
   "source": [
    "temp_data = df.groupby('diag_2')['Target'].count()\n",
    "temp_data = pd.DataFrame(temp_data)\n",
    "temp_data = temp_data.sort_values('Target',ascending = False)\n",
    "\n",
    "data = temp_data.head(50)\n",
    "plt.figure(figsize=(20,10))\n",
    "sns.barplot(x=data.index, y = data.Target)"
   ]
  },
  {
   "cell_type": "code",
   "execution_count": 73,
   "metadata": {},
   "outputs": [
    {
     "data": {
      "text/plain": [
       "<AxesSubplot:xlabel='diag_3', ylabel='Target'>"
      ]
     },
     "execution_count": 73,
     "metadata": {},
     "output_type": "execute_result"
    },
    {
     "data": {
      "image/png": "[encoded data removed]",
      "text/plain": [
       "<Figure size 1440x720 with 1 Axes>"
      ]
     },
     "metadata": {
      "needs_background": "light"
     },
     "output_type": "display_data"
    }
   ],
   "source": [
    "temp_data = df.groupby('diag_3')['Target'].count()\n",
    "temp_data = pd.DataFrame(temp_data)\n",
    "temp_data = temp_data.sort_values('Target',ascending = False)\n",
    "\n",
    "data = temp_data.head(50)\n",
    "plt.figure(figsize=(20,10))\n",
    "sns.barplot(x=data.index, y = data.Target)"
   ]
  },
  {
   "cell_type": "markdown",
   "metadata": {},
   "source": [
    "# Diagnoses"
   ]
  },
  {
   "cell_type": "markdown",
   "metadata": {},
   "source": [
    "The number of diagnoses is a comorbidity measure based on all the ICD–9–CM and ICD–10–CA diagnosis codes attributed to patients during medical visits and hospitalizations over a specific period of time"
   ]
  },
  {
   "cell_type": "code",
   "execution_count": 74,
   "metadata": {},
   "outputs": [
    {
     "data": {
      "text/plain": [
       "array([ 6,  7,  8,  9,  3,  5,  1,  4,  2, 13, 10, 12, 16, 15, 11, 14],\n",
       "      dtype=int64)"
      ]
     },
     "execution_count": 74,
     "metadata": {},
     "output_type": "execute_result"
    }
   ],
   "source": [
    "df['number_diagnoses'].unique()"
   ]
  },
  {
   "cell_type": "code",
   "execution_count": 75,
   "metadata": {},
   "outputs": [
    {
     "data": {
      "text/plain": [
       "16"
      ]
     },
     "execution_count": 75,
     "metadata": {},
     "output_type": "execute_result"
    }
   ],
   "source": [
    "len(df['number_diagnoses'].unique())"
   ]
  },
  {
   "cell_type": "code",
   "execution_count": 76,
   "metadata": {},
   "outputs": [
    {
     "data": {
      "text/plain": [
       "<AxesSubplot:xlabel='number_diagnoses', ylabel='Count'>"
      ]
     },
     "execution_count": 76,
     "metadata": {},
     "output_type": "execute_result"
    },
    {
     "data": {
      "image/png": "[encoded data removed]",
      "text/plain": [
       "<Figure size 432x288 with 1 Axes>"
      ]
     },
     "metadata": {
      "needs_background": "light"
     },
     "output_type": "display_data"
    }
   ],
   "source": [
    "sns.histplot(df['number_diagnoses'])"
   ]
  },
  {
   "cell_type": "markdown",
   "metadata": {},
   "source": [
    "Most of the patients are coded as 9 after the diagnosed."
   ]
  },
  {
   "cell_type": "markdown",
   "metadata": {},
   "source": [
    "# a1C Result"
   ]
  },
  {
   "cell_type": "markdown",
   "metadata": {},
   "source": [
    "The hemoglobin A1c test tells you your average level of blood sugar over the past 2 to 3 months"
   ]
  },
  {
   "cell_type": "code",
   "execution_count": 78,
   "metadata": {},
   "outputs": [
    {
     "data": {
      "text/plain": [
       "array(['None', '>7', '>8', 'Norm'], dtype=object)"
      ]
     },
     "execution_count": 78,
     "metadata": {},
     "output_type": "execute_result"
    }
   ],
   "source": [
    "df['A1Cresult'].unique()"
   ]
  },
  {
   "cell_type": "code",
   "execution_count": 82,
   "metadata": {},
   "outputs": [
    {
     "data": {
      "text/plain": [
       "<AxesSubplot:xlabel='A1Cresult'>"
      ]
     },
     "execution_count": 82,
     "metadata": {},
     "output_type": "execute_result"
    },
    {
     "data": {
      "image/png": "[encoded data removed]",
      "text/plain": [
       "<Figure size 432x288 with 1 Axes>"
      ]
     },
     "metadata": {
      "needs_background": "light"
     },
     "output_type": "display_data"
    }
   ],
   "source": [
    "df.groupby('A1Cresult')['Target'].count().plot.bar()"
   ]
  }
 ],
 "metadata": {
  "interpreter": {
   "hash": "274b066e0da97a5956898104b9dfdd450d2a26e18b93296a9c54d8e466633084"
  },
  "kernelspec": {
   "display_name": "Python 3.8.8 ('base')",
   "language": "python",
   "name": "python3"
  },
  "language_info": {
   "codemirror_mode": {
    "name": "ipython",
    "version": 3
   },
   "file_extension": ".py",
   "mimetype": "text/x-python",
   "name": "python",
   "nbconvert_exporter": "python",
   "pygments_lexer": "ipython3",
   "version": "3.8.8"
  },
  "orig_nbformat": 4
 },
 "nbformat": 4,
 "nbformat_minor": 2
}
