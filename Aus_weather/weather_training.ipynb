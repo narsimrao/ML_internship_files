{
 "cells": [
  {
   "cell_type": "code",
   "execution_count": 52,
   "metadata": {},
   "outputs": [],
   "source": [
    "import pandas as pd\n",
    "import matplotlib.pyplot as plt"
   ]
  },
  {
   "cell_type": "code",
   "execution_count": 2,
   "metadata": {},
   "outputs": [],
   "source": [
    "X_train = pd.read_csv('X_train.csv')\n",
    "X_test = pd.read_csv('X_test.csv')\n",
    "y_train = pd.read_csv('y_train.csv')\n",
    "y_test = pd.read_csv('y_test.csv')"
   ]
  },
  {
   "cell_type": "code",
   "execution_count": 14,
   "metadata": {},
   "outputs": [],
   "source": [
    "from sklearn.compose import ColumnTransformer\n",
    "from sklearn.pipeline import Pipeline\n",
    "from sklearn.linear_model import LogisticRegression\n",
    "from sklearn.tree import DecisionTreeClassifier\n",
    "import pickle"
   ]
  },
  {
   "cell_type": "code",
   "execution_count": 68,
   "metadata": {},
   "outputs": [],
   "source": [
    "def save_model(model,filename):\n",
    "    pickle.dump(model, open('models/'+filename, 'wb'))\n",
    "\n",
    "def Model_score(filename):\n",
    "    loaded_model = pickle.load(open('models/'+filename, 'rb'))\n",
    "    result = loaded_model.score(X_test, y_test)\n",
    "    return result"
   ]
  },
  {
   "cell_type": "code",
   "execution_count": 20,
   "metadata": {},
   "outputs": [
    {
     "name": "stderr",
     "output_type": "stream",
     "text": [
      "C:\\Users\\Rao\\anaconda3\\lib\\site-packages\\sklearn\\utils\\validation.py:63: DataConversionWarning: A column-vector y was passed when a 1d array was expected. Please change the shape of y to (n_samples, ), for example using ravel().\n",
      "  return f(*args, **kwargs)\n",
      "C:\\Users\\Rao\\anaconda3\\lib\\site-packages\\sklearn\\linear_model\\_logistic.py:763: ConvergenceWarning: lbfgs failed to converge (status=1):\n",
      "STOP: TOTAL NO. of ITERATIONS REACHED LIMIT.\n",
      "\n",
      "Increase the number of iterations (max_iter) or scale the data as shown in:\n",
      "    https://scikit-learn.org/stable/modules/preprocessing.html\n",
      "Please also refer to the documentation for alternative solver options:\n",
      "    https://scikit-learn.org/stable/modules/linear_model.html#logistic-regression\n",
      "  n_iter_i = _check_optimize_result(\n"
     ]
    },
    {
     "data": {
      "text/plain": [
       "Pipeline(steps=[('logistic', LogisticRegression())])"
      ]
     },
     "execution_count": 20,
     "metadata": {},
     "output_type": "execute_result"
    }
   ],
   "source": [
    "LR_pipe = Pipeline([('logistic',LogisticRegression())])\n",
    "LR_pipe.fit(X_train,y_train)"
   ]
  },
  {
   "cell_type": "code",
   "execution_count": 23,
   "metadata": {},
   "outputs": [],
   "source": [
    "save_model(LR_pipe,'LogisticRegression.sav')"
   ]
  },
  {
   "cell_type": "code",
   "execution_count": 22,
   "metadata": {},
   "outputs": [
    {
     "data": {
      "text/plain": [
       "Pipeline(steps=[('Decision', DecisionTreeClassifier(random_state=0))])"
      ]
     },
     "execution_count": 22,
     "metadata": {},
     "output_type": "execute_result"
    }
   ],
   "source": [
    "DC_pipe = Pipeline([('Decision',DecisionTreeClassifier(random_state=0))])\n",
    "DC_pipe.fit(X_train,y_train)"
   ]
  },
  {
   "cell_type": "code",
   "execution_count": 19,
   "metadata": {},
   "outputs": [],
   "source": [
    "save_model(DC_pipe,'DecisionTree.sav')"
   ]
  },
  {
   "cell_type": "code",
   "execution_count": 82,
   "metadata": {},
   "outputs": [],
   "source": [
    "from sklearn.model_selection import GridSearchCV\n",
    "param4 = {}\n",
    "param4['max_depth'] = [5,10,25,None]\n",
    "param4['min_samples_split'] = [2,5,10]\n",
    "param4['class_weight'] = [None, {0:1,1:5}, {0:1,1:10}, {0:1,1:25}]\n",
    "# parameters = {'criterion':['gini'], 'splitter':['best'], 'min_samples_split':[100,200,300,400,500,600,700,800,900], 'random_state':[42]}\n",
    "clf = GridSearchCV(DecisionTreeClassifier(),param4, cv = 10, return_train_score=False)"
   ]
  },
  {
   "cell_type": "code",
   "execution_count": 83,
   "metadata": {},
   "outputs": [
    {
     "data": {
      "text/plain": [
       "GridSearchCV(cv=10, estimator=DecisionTreeClassifier(),\n",
       "             param_grid={'class_weight': [None, {0: 1, 1: 5}, {0: 1, 1: 10},\n",
       "                                          {0: 1, 1: 25}],\n",
       "                         'max_depth': [5, 10, 25, None],\n",
       "                         'min_samples_split': [2, 5, 10]})"
      ]
     },
     "execution_count": 83,
     "metadata": {},
     "output_type": "execute_result"
    }
   ],
   "source": [
    "clf.fit(X_train,y_train)"
   ]
  },
  {
   "cell_type": "code",
   "execution_count": 88,
   "metadata": {},
   "outputs": [
    {
     "data": {
      "text/plain": [
       "DecisionTreeClassifier(max_depth=10)"
      ]
     },
     "execution_count": 88,
     "metadata": {},
     "output_type": "execute_result"
    }
   ],
   "source": [
    "clf.best_estimator_"
   ]
  },
  {
   "cell_type": "code",
   "execution_count": 89,
   "metadata": {},
   "outputs": [],
   "source": [
    "save_model(clf,'ParameterTuned_DecisionTree.sav')"
   ]
  },
  {
   "cell_type": "code",
   "execution_count": 86,
   "metadata": {},
   "outputs": [
    {
     "data": {
      "text/html": [
       "<div><div id=c07647ae-965f-4f96-9a9a-084249314354 style=\"display:none; background-color:#9D6CFF; color:white; width:200px; height:30px; padding-left:5px; border-radius:4px; flex-direction:row; justify-content:space-around; align-items:center;\" onmouseover=\"this.style.backgroundColor='#BA9BF8'\" onmouseout=\"this.style.backgroundColor='#9D6CFF'\" onclick=\"window.commands?.execute('create-mitosheet-from-dataframe-output');\">See Full Dataframe in Mito</div> <script> if (window.commands.hasCommand('create-mitosheet-from-dataframe-output')) document.getElementById('c07647ae-965f-4f96-9a9a-084249314354').style.display = 'flex' </script> <table border=\"1\" class=\"dataframe\">\n",
       "  <thead>\n",
       "    <tr style=\"text-align: right;\">\n",
       "      <th></th>\n",
       "      <th>mean_fit_time</th>\n",
       "      <th>std_fit_time</th>\n",
       "      <th>mean_score_time</th>\n",
       "      <th>std_score_time</th>\n",
       "      <th>param_class_weight</th>\n",
       "      <th>param_max_depth</th>\n",
       "      <th>param_min_samples_split</th>\n",
       "      <th>params</th>\n",
       "      <th>split0_test_score</th>\n",
       "      <th>split1_test_score</th>\n",
       "      <th>...</th>\n",
       "      <th>split3_test_score</th>\n",
       "      <th>split4_test_score</th>\n",
       "      <th>split5_test_score</th>\n",
       "      <th>split6_test_score</th>\n",
       "      <th>split7_test_score</th>\n",
       "      <th>split8_test_score</th>\n",
       "      <th>split9_test_score</th>\n",
       "      <th>mean_test_score</th>\n",
       "      <th>std_test_score</th>\n",
       "      <th>rank_test_score</th>\n",
       "    </tr>\n",
       "  </thead>\n",
       "  <tbody>\n",
       "    <tr>\n",
       "      <th>0</th>\n",
       "      <td>0.294948</td>\n",
       "      <td>0.014774</td>\n",
       "      <td>0.004562</td>\n",
       "      <td>0.000651</td>\n",
       "      <td>None</td>\n",
       "      <td>5</td>\n",
       "      <td>2</td>\n",
       "      <td>{'class_weight': None, 'max_depth': 5, 'min_samples_split': 2}</td>\n",
       "      <td>0.831658</td>\n",
       "      <td>0.825213</td>\n",
       "      <td>...</td>\n",
       "      <td>0.825900</td>\n",
       "      <td>0.826674</td>\n",
       "      <td>0.825814</td>\n",
       "      <td>0.831830</td>\n",
       "      <td>0.823150</td>\n",
       "      <td>0.823565</td>\n",
       "      <td>0.831643</td>\n",
       "      <td>0.826825</td>\n",
       "      <td>0.003412</td>\n",
       "      <td>4</td>\n",
       "    </tr>\n",
       "    <tr>\n",
       "      <th>1</th>\n",
       "      <td>0.297602</td>\n",
       "      <td>0.004763</td>\n",
       "      <td>0.004612</td>\n",
       "      <td>0.000492</td>\n",
       "      <td>None</td>\n",
       "      <td>5</td>\n",
       "      <td>5</td>\n",
       "      <td>{'class_weight': None, 'max_depth': 5, 'min_samples_split': 5}</td>\n",
       "      <td>0.831658</td>\n",
       "      <td>0.825213</td>\n",
       "      <td>...</td>\n",
       "      <td>0.825900</td>\n",
       "      <td>0.826674</td>\n",
       "      <td>0.825814</td>\n",
       "      <td>0.831830</td>\n",
       "      <td>0.823150</td>\n",
       "      <td>0.823565</td>\n",
       "      <td>0.831643</td>\n",
       "      <td>0.826825</td>\n",
       "      <td>0.003412</td>\n",
       "      <td>4</td>\n",
       "    </tr>\n",
       "    <tr>\n",
       "      <th>2</th>\n",
       "      <td>0.292690</td>\n",
       "      <td>0.004518</td>\n",
       "      <td>0.004412</td>\n",
       "      <td>0.000491</td>\n",
       "      <td>None</td>\n",
       "      <td>5</td>\n",
       "      <td>10</td>\n",
       "      <td>{'class_weight': None, 'max_depth': 5, 'min_samples_split': 10}</td>\n",
       "      <td>0.831658</td>\n",
       "      <td>0.825213</td>\n",
       "      <td>...</td>\n",
       "      <td>0.825900</td>\n",
       "      <td>0.826674</td>\n",
       "      <td>0.825814</td>\n",
       "      <td>0.831830</td>\n",
       "      <td>0.823150</td>\n",
       "      <td>0.823565</td>\n",
       "      <td>0.831643</td>\n",
       "      <td>0.826825</td>\n",
       "      <td>0.003412</td>\n",
       "      <td>4</td>\n",
       "    </tr>\n",
       "    <tr>\n",
       "      <th>3</th>\n",
       "      <td>0.553795</td>\n",
       "      <td>0.008834</td>\n",
       "      <td>0.005364</td>\n",
       "      <td>0.000452</td>\n",
       "      <td>None</td>\n",
       "      <td>10</td>\n",
       "      <td>2</td>\n",
       "      <td>{'class_weight': None, 'max_depth': 10, 'min_samples_split': 2}</td>\n",
       "      <td>0.833033</td>\n",
       "      <td>0.829080</td>\n",
       "      <td>...</td>\n",
       "      <td>0.828134</td>\n",
       "      <td>0.827705</td>\n",
       "      <td>0.832173</td>\n",
       "      <td>0.833548</td>\n",
       "      <td>0.826674</td>\n",
       "      <td>0.830354</td>\n",
       "      <td>0.833792</td>\n",
       "      <td>0.830117</td>\n",
       "      <td>0.002694</td>\n",
       "      <td>1</td>\n",
       "    </tr>\n",
       "    <tr>\n",
       "      <th>4</th>\n",
       "      <td>0.558210</td>\n",
       "      <td>0.009318</td>\n",
       "      <td>0.005164</td>\n",
       "      <td>0.000321</td>\n",
       "      <td>None</td>\n",
       "      <td>10</td>\n",
       "      <td>5</td>\n",
       "      <td>{'class_weight': None, 'max_depth': 10, 'min_samples_split': 5}</td>\n",
       "      <td>0.832861</td>\n",
       "      <td>0.829423</td>\n",
       "      <td>...</td>\n",
       "      <td>0.828220</td>\n",
       "      <td>0.827275</td>\n",
       "      <td>0.832431</td>\n",
       "      <td>0.833119</td>\n",
       "      <td>0.826416</td>\n",
       "      <td>0.830268</td>\n",
       "      <td>0.834221</td>\n",
       "      <td>0.830048</td>\n",
       "      <td>0.002821</td>\n",
       "      <td>2</td>\n",
       "    </tr>\n",
       "  </tbody>\n",
       "</table></div>"
      ],
      "text/plain": [
       "   mean_fit_time  std_fit_time  mean_score_time  std_score_time  \\\n",
       "0       0.294948      0.014774         0.004562        0.000651   \n",
       "1       0.297602      0.004763         0.004612        0.000492   \n",
       "2       0.292690      0.004518         0.004412        0.000491   \n",
       "3       0.553795      0.008834         0.005364        0.000452   \n",
       "4       0.558210      0.009318         0.005164        0.000321   \n",
       "\n",
       "  param_class_weight param_max_depth param_min_samples_split  \\\n",
       "0               None               5                       2   \n",
       "1               None               5                       5   \n",
       "2               None               5                      10   \n",
       "3               None              10                       2   \n",
       "4               None              10                       5   \n",
       "\n",
       "                                              params  split0_test_score  \\\n",
       "0  {'class_weight': None, 'max_depth': 5, 'min_sa...           0.831658   \n",
       "1  {'class_weight': None, 'max_depth': 5, 'min_sa...           0.831658   \n",
       "2  {'class_weight': None, 'max_depth': 5, 'min_sa...           0.831658   \n",
       "3  {'class_weight': None, 'max_depth': 10, 'min_s...           0.833033   \n",
       "4  {'class_weight': None, 'max_depth': 10, 'min_s...           0.832861   \n",
       "\n",
       "   split1_test_score  ...  split3_test_score  split4_test_score  \\\n",
       "0           0.825213  ...           0.825900           0.826674   \n",
       "1           0.825213  ...           0.825900           0.826674   \n",
       "2           0.825213  ...           0.825900           0.826674   \n",
       "3           0.829080  ...           0.828134           0.827705   \n",
       "4           0.829423  ...           0.828220           0.827275   \n",
       "\n",
       "   split5_test_score  split6_test_score  split7_test_score  split8_test_score  \\\n",
       "0           0.825814           0.831830           0.823150           0.823565   \n",
       "1           0.825814           0.831830           0.823150           0.823565   \n",
       "2           0.825814           0.831830           0.823150           0.823565   \n",
       "3           0.832173           0.833548           0.826674           0.830354   \n",
       "4           0.832431           0.833119           0.826416           0.830268   \n",
       "\n",
       "   split9_test_score  mean_test_score  std_test_score  rank_test_score  \n",
       "0           0.831643         0.826825        0.003412                4  \n",
       "1           0.831643         0.826825        0.003412                4  \n",
       "2           0.831643         0.826825        0.003412                4  \n",
       "3           0.833792         0.830117        0.002694                1  \n",
       "4           0.834221         0.830048        0.002821                2  \n",
       "\n",
       "[5 rows x 21 columns]"
      ]
     },
     "execution_count": 86,
     "metadata": {},
     "output_type": "execute_result"
    }
   ],
   "source": [
    "clf_df = pd.DataFrame(clf.cv_results_)\n",
    "clf_df.head()"
   ]
  },
  {
   "cell_type": "code",
   "execution_count": 87,
   "metadata": {},
   "outputs": [
    {
     "name": "stdout",
     "output_type": "stream",
     "text": [
      "Best Score : 0.8301165605031755 Best Params : {'class_weight': None, 'max_depth': 10, 'min_samples_split': 2}\n"
     ]
    }
   ],
   "source": [
    "print('Best Score :',clf.best_score_,'Best Params :',clf.best_params_)"
   ]
  },
  {
   "cell_type": "code",
   "execution_count": 39,
   "metadata": {},
   "outputs": [],
   "source": [
    "from sklearn.tree import DecisionTreeClassifier\n",
    "from sklearn.naive_bayes import MultinomialNB\n",
    "from sklearn.neighbors import KNeighborsClassifier\n",
    "from sklearn.ensemble import RandomForestClassifier\n",
    "from sklearn.svm import SVC\n",
    "from sklearn.ensemble import GradientBoostingClassifier"
   ]
  },
  {
   "cell_type": "code",
   "execution_count": 40,
   "metadata": {},
   "outputs": [],
   "source": [
    "# Initialze the estimators\n",
    "clf1 = RandomForestClassifier(random_state=42)\n",
    "# clf2 = SVC(probability=True, random_state=42)\n",
    "# clf3 = LogisticRegression(random_state=42)\n",
    "# clf4 = DecisionTreeClassifier(random_state=42)\n",
    "# clf5 = KNeighborsClassifier()\n",
    "# clf6 = MultinomialNB()\n",
    "# clf7 = GradientBoostingClassifier(random_state=42)"
   ]
  },
  {
   "cell_type": "code",
   "execution_count": 42,
   "metadata": {},
   "outputs": [],
   "source": [
    "# Initiaze the hyperparameters for each dictionary\n",
    "param1 = {}\n",
    "param1['classifier__n_estimators'] = [10, 50, 100, 250]\n",
    "param1['classifier__max_depth'] = [5, 10, 20]\n",
    "# param1['classifier__class_weight'] = [None, {0:1,1:5}, {0:1,1:10}, {0:1,1:25}]\n",
    "param1['classifier'] = [clf1]\n",
    "\n",
    "# param2 = {}\n",
    "# param2['classifier__C'] = [10**-2, 10**-1, 10**0, 10**1, 10**2]\n",
    "# param2['classifier__class_weight'] = [None, {0:1,1:5}, {0:1,1:10}, {0:1,1:25}]\n",
    "# param2['classifier'] = [clf2]\n",
    "\n",
    "# param3 = {}\n",
    "# param3['classifier__C'] = [10**-2, 10**-1, 10**0, 10**1, 10**2]\n",
    "# param3['classifier__penalty'] = ['l1', 'l2']\n",
    "# param3['classifier__class_weight'] = [None, {0:1,1:5}, {0:1,1:10}, {0:1,1:25}]\n",
    "# param3['classifier'] = [clf3]\n",
    "\n",
    "# param4 = {}\n",
    "# param4['classifier__max_depth'] = [5,10,25,None]\n",
    "# param4['classifier__min_samples_split'] = [2,5,10]\n",
    "# param4['classifier__class_weight'] = [None, {0:1,1:5}, {0:1,1:10}, {0:1,1:25}]\n",
    "# param4['classifier'] = [clf4]\n",
    "\n",
    "# param5 = {}\n",
    "# param5['classifier__n_neighbors'] = [2,5,10,25,50]\n",
    "# param5['classifier'] = [clf5]\n",
    "\n",
    "# param6 = {}\n",
    "# param6['classifier__alpha'] = [10**0, 10**1, 10**2]\n",
    "# param6['classifier'] = [clf6]\n",
    "\n",
    "# param7 = {}\n",
    "# param7['classifier__n_estimators'] = [10, 50, 100, 250]\n",
    "# param7['classifier__max_depth'] = [5, 10, 20]\n",
    "# param7['classifier'] = [clf7]"
   ]
  },
  {
   "cell_type": "code",
   "execution_count": 43,
   "metadata": {},
   "outputs": [],
   "source": [
    "pipeline = Pipeline([('RandomForest', clf1)])\n",
    "# params = [param1, param2, param3, param4, param5, param6, param7]\n",
    "params = [param1]"
   ]
  },
  {
   "cell_type": "code",
   "execution_count": 44,
   "metadata": {},
   "outputs": [
    {
     "name": "stderr",
     "output_type": "stream",
     "text": [
      "C:\\Users\\Rao\\anaconda3\\lib\\site-packages\\sklearn\\pipeline.py:346: DataConversionWarning: A column-vector y was passed when a 1d array was expected. Please change the shape of y to (n_samples,), for example using ravel().\n",
      "  self._final_estimator.fit(Xt, y, **fit_params_last_step)\n"
     ]
    }
   ],
   "source": [
    "from sklearn.model_selection import GridSearchCV\n",
    "# Train the grid search model\n",
    "gs = GridSearchCV(pipeline, params, cv=5, n_jobs=-1, scoring='roc_auc').fit(X_train, y_train)"
   ]
  },
  {
   "cell_type": "code",
   "execution_count": 45,
   "metadata": {},
   "outputs": [
    {
     "data": {
      "text/plain": [
       "{'classifier': RandomForestClassifier(max_depth=20, n_estimators=250, random_state=42),\n",
       " 'classifier__max_depth': 20,\n",
       " 'classifier__n_estimators': 250}"
      ]
     },
     "execution_count": 45,
     "metadata": {},
     "output_type": "execute_result"
    }
   ],
   "source": [
    "gs.best_params_"
   ]
  },
  {
   "cell_type": "code",
   "execution_count": 46,
   "metadata": {},
   "outputs": [],
   "source": [
    "save_model(gs,'RandomForest.sav')"
   ]
  },
  {
   "cell_type": "code",
   "execution_count": 90,
   "metadata": {},
   "outputs": [],
   "source": [
    "import os\n",
    "\n",
    "models = os.listdir('models/')"
   ]
  },
  {
   "cell_type": "code",
   "execution_count": 91,
   "metadata": {},
   "outputs": [],
   "source": [
    "score = []\n",
    "for i in range(0,len(models)):\n",
    "    score.append(Model_score(models[i]) * 100)"
   ]
  },
  {
   "cell_type": "code",
   "execution_count": 92,
   "metadata": {},
   "outputs": [
    {
     "data": {
      "text/plain": [
       "<BarContainer object of 4 artists>"
      ]
     },
     "execution_count": 92,
     "metadata": {},
     "output_type": "execute_result"
    },
    {
     "data": {
      "image/png": "[encoded data removed]",
      "text/plain": [
       "<Figure size 1080x360 with 1 Axes>"
      ]
     },
     "metadata": {
      "needs_background": "light"
     },
     "output_type": "display_data"
    }
   ],
   "source": [
    "plt.figure(figsize=(15,5))\n",
    "plt.bar(models,score)"
   ]
  },
  {
   "cell_type": "code",
   "execution_count": null,
   "metadata": {},
   "outputs": [],
   "source": []
  }
 ],
 "metadata": {
  "interpreter": {
   "hash": "274b066e0da97a5956898104b9dfdd450d2a26e18b93296a9c54d8e466633084"
  },
  "kernelspec": {
   "display_name": "Python 3.8.8 ('base')",
   "language": "python",
   "name": "python3"
  },
  "language_info": {
   "codemirror_mode": {
    "name": "ipython",
    "version": 3
   },
   "file_extension": ".py",
   "mimetype": "text/x-python",
   "name": "python",
   "nbconvert_exporter": "python",
   "pygments_lexer": "ipython3",
   "version": "3.8.8"
  },
  "orig_nbformat": 4
 },
 "nbformat": 4,
 "nbformat_minor": 2
}
