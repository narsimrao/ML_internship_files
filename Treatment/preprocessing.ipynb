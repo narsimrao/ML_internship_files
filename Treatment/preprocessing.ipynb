{
 "cells": [
  {
   "cell_type": "code",
   "execution_count": 1,
   "metadata": {},
   "outputs": [],
   "source": [
    "import pandas as pd\n",
    "import numpy as np\n",
    "import matplotlib.pyplot as plt\n",
    "import seaborn as sns\n",
    "\n",
    "import warnings\n",
    "warnings.filterwarnings(\"ignore\")"
   ]
  },
  {
   "cell_type": "code",
   "execution_count": 2,
   "metadata": {},
   "outputs": [
    {
     "data": {
      "text/html": [
       "<div><div id=63396751-7b45-4ff2-9ac0-ee7b2be2112e style=\"display:none; background-color:#9D6CFF; color:white; width:200px; height:30px; padding-left:5px; border-radius:4px; flex-direction:row; justify-content:space-around; align-items:center;\" onmouseover=\"this.style.backgroundColor='#BA9BF8'\" onmouseout=\"this.style.backgroundColor='#9D6CFF'\" onclick=\"window.commands?.execute('create-mitosheet-from-dataframe-output');\">See Full Dataframe in Mito</div> <script> if (window.commands.hasCommand('create-mitosheet-from-dataframe-output')) document.getElementById('63396751-7b45-4ff2-9ac0-ee7b2be2112e').style.display = 'flex' </script> <table border=\"1\" class=\"dataframe\">\n",
       "  <thead>\n",
       "    <tr style=\"text-align: right;\">\n",
       "      <th></th>\n",
       "      <th>encounter_id</th>\n",
       "      <th>patient_nbr</th>\n",
       "      <th>race</th>\n",
       "      <th>gender</th>\n",
       "      <th>age</th>\n",
       "      <th>weight</th>\n",
       "      <th>admission_type_id</th>\n",
       "      <th>discharge_disposition_id</th>\n",
       "      <th>admission_source_id</th>\n",
       "      <th>time_in_hospital</th>\n",
       "      <th>...</th>\n",
       "      <th>number_outpatient</th>\n",
       "      <th>number_emergency</th>\n",
       "      <th>number_inpatient</th>\n",
       "      <th>diag_1</th>\n",
       "      <th>diag_2</th>\n",
       "      <th>diag_3</th>\n",
       "      <th>number_diagnoses</th>\n",
       "      <th>max_glu_serum</th>\n",
       "      <th>A1Cresult</th>\n",
       "      <th>Target</th>\n",
       "    </tr>\n",
       "  </thead>\n",
       "  <tbody>\n",
       "    <tr>\n",
       "      <th>0</th>\n",
       "      <td>64410</td>\n",
       "      <td>86047875</td>\n",
       "      <td>AfricanAmerican</td>\n",
       "      <td>Female</td>\n",
       "      <td>[20-30)</td>\n",
       "      <td>?</td>\n",
       "      <td>1</td>\n",
       "      <td>1</td>\n",
       "      <td>7</td>\n",
       "      <td>2</td>\n",
       "      <td>...</td>\n",
       "      <td>2</td>\n",
       "      <td>0</td>\n",
       "      <td>1</td>\n",
       "      <td>648</td>\n",
       "      <td>250</td>\n",
       "      <td>V27</td>\n",
       "      <td>6</td>\n",
       "      <td>None</td>\n",
       "      <td>None</td>\n",
       "      <td>Drug</td>\n",
       "    </tr>\n",
       "    <tr>\n",
       "      <th>1</th>\n",
       "      <td>500364</td>\n",
       "      <td>82442376</td>\n",
       "      <td>Caucasian</td>\n",
       "      <td>Male</td>\n",
       "      <td>[30-40)</td>\n",
       "      <td>?</td>\n",
       "      <td>1</td>\n",
       "      <td>1</td>\n",
       "      <td>7</td>\n",
       "      <td>2</td>\n",
       "      <td>...</td>\n",
       "      <td>0</td>\n",
       "      <td>0</td>\n",
       "      <td>0</td>\n",
       "      <td>8</td>\n",
       "      <td>250.43</td>\n",
       "      <td>403</td>\n",
       "      <td>7</td>\n",
       "      <td>None</td>\n",
       "      <td>None</td>\n",
       "      <td>Solo_Insulin</td>\n",
       "    </tr>\n",
       "    <tr>\n",
       "      <th>2</th>\n",
       "      <td>42570</td>\n",
       "      <td>77586282</td>\n",
       "      <td>Caucasian</td>\n",
       "      <td>Male</td>\n",
       "      <td>[80-90)</td>\n",
       "      <td>?</td>\n",
       "      <td>1</td>\n",
       "      <td>6</td>\n",
       "      <td>7</td>\n",
       "      <td>10</td>\n",
       "      <td>...</td>\n",
       "      <td>0</td>\n",
       "      <td>0</td>\n",
       "      <td>0</td>\n",
       "      <td>428</td>\n",
       "      <td>411</td>\n",
       "      <td>427</td>\n",
       "      <td>8</td>\n",
       "      <td>None</td>\n",
       "      <td>None</td>\n",
       "      <td>Solo_Insulin</td>\n",
       "    </tr>\n",
       "    <tr>\n",
       "      <th>3</th>\n",
       "      <td>73578</td>\n",
       "      <td>86328819</td>\n",
       "      <td>AfricanAmerican</td>\n",
       "      <td>Male</td>\n",
       "      <td>[60-70)</td>\n",
       "      <td>?</td>\n",
       "      <td>1</td>\n",
       "      <td>3</td>\n",
       "      <td>7</td>\n",
       "      <td>12</td>\n",
       "      <td>...</td>\n",
       "      <td>0</td>\n",
       "      <td>0</td>\n",
       "      <td>0</td>\n",
       "      <td>999</td>\n",
       "      <td>507</td>\n",
       "      <td>996</td>\n",
       "      <td>9</td>\n",
       "      <td>None</td>\n",
       "      <td>None</td>\n",
       "      <td>Solo_Insulin</td>\n",
       "    </tr>\n",
       "    <tr>\n",
       "      <th>4</th>\n",
       "      <td>84222</td>\n",
       "      <td>108662661</td>\n",
       "      <td>Caucasian</td>\n",
       "      <td>Female</td>\n",
       "      <td>[50-60)</td>\n",
       "      <td>?</td>\n",
       "      <td>1</td>\n",
       "      <td>1</td>\n",
       "      <td>7</td>\n",
       "      <td>3</td>\n",
       "      <td>...</td>\n",
       "      <td>0</td>\n",
       "      <td>0</td>\n",
       "      <td>0</td>\n",
       "      <td>682</td>\n",
       "      <td>174</td>\n",
       "      <td>250</td>\n",
       "      <td>3</td>\n",
       "      <td>None</td>\n",
       "      <td>None</td>\n",
       "      <td>Drug</td>\n",
       "    </tr>\n",
       "  </tbody>\n",
       "</table></div>"
      ],
      "text/plain": [
       "   encounter_id  patient_nbr             race  gender      age weight  \\\n",
       "0         64410     86047875  AfricanAmerican  Female  [20-30)      ?   \n",
       "1        500364     82442376        Caucasian    Male  [30-40)      ?   \n",
       "2         42570     77586282        Caucasian    Male  [80-90)      ?   \n",
       "3         73578     86328819  AfricanAmerican    Male  [60-70)      ?   \n",
       "4         84222    108662661        Caucasian  Female  [50-60)      ?   \n",
       "\n",
       "   admission_type_id  discharge_disposition_id  admission_source_id  \\\n",
       "0                  1                         1                    7   \n",
       "1                  1                         1                    7   \n",
       "2                  1                         6                    7   \n",
       "3                  1                         3                    7   \n",
       "4                  1                         1                    7   \n",
       "\n",
       "   time_in_hospital  ... number_outpatient number_emergency  number_inpatient  \\\n",
       "0                 2  ...                 2                0                 1   \n",
       "1                 2  ...                 0                0                 0   \n",
       "2                10  ...                 0                0                 0   \n",
       "3                12  ...                 0                0                 0   \n",
       "4                 3  ...                 0                0                 0   \n",
       "\n",
       "   diag_1  diag_2  diag_3  number_diagnoses  max_glu_serum A1Cresult  \\\n",
       "0     648     250     V27                 6           None      None   \n",
       "1       8  250.43     403                 7           None      None   \n",
       "2     428     411     427                 8           None      None   \n",
       "3     999     507     996                 9           None      None   \n",
       "4     682     174     250                 3           None      None   \n",
       "\n",
       "         Target  \n",
       "0          Drug  \n",
       "1  Solo_Insulin  \n",
       "2  Solo_Insulin  \n",
       "3  Solo_Insulin  \n",
       "4          Drug  \n",
       "\n",
       "[5 rows x 25 columns]"
      ]
     },
     "execution_count": 2,
     "metadata": {},
     "output_type": "execute_result"
    }
   ],
   "source": [
    "df = pd.read_csv('Treatment Prediciton.csv')\n",
    "df.head()"
   ]
  },
  {
   "cell_type": "code",
   "execution_count": 3,
   "metadata": {},
   "outputs": [],
   "source": [
    "df = df.replace('?',np.nan)"
   ]
  },
  {
   "cell_type": "code",
   "execution_count": 4,
   "metadata": {},
   "outputs": [
    {
     "data": {
      "text/plain": [
       "encounter_id                    0\n",
       "patient_nbr                     0\n",
       "race                          834\n",
       "gender                          0\n",
       "age                             0\n",
       "weight                      27772\n",
       "admission_type_id               0\n",
       "discharge_disposition_id        0\n",
       "admission_source_id             0\n",
       "time_in_hospital                0\n",
       "payer_code                  11495\n",
       "medical_specialty           13406\n",
       "num_lab_procedures              0\n",
       "num_procedures                  0\n",
       "num_medications                 0\n",
       "number_outpatient               0\n",
       "number_emergency                0\n",
       "number_inpatient                0\n",
       "diag_1                          3\n",
       "diag_2                        171\n",
       "diag_3                        585\n",
       "number_diagnoses                0\n",
       "max_glu_serum                   0\n",
       "A1Cresult                       0\n",
       "Target                          0\n",
       "dtype: int64"
      ]
     },
     "execution_count": 4,
     "metadata": {},
     "output_type": "execute_result"
    }
   ],
   "source": [
    "df.isna().sum()"
   ]
  },
  {
   "cell_type": "code",
   "execution_count": 5,
   "metadata": {},
   "outputs": [
    {
     "name": "stdout",
     "output_type": "stream",
     "text": [
      "encounter_id : 0.0 % of missing values\n",
      "patient_nbr : 0.0 % of missing values\n",
      "race : 2.93 % of missing values\n",
      "gender : 0.0 % of missing values\n",
      "age : 0.0 % of missing values\n",
      "weight : 97.5 % of missing values\n",
      "admission_type_id : 0.0 % of missing values\n",
      "discharge_disposition_id : 0.0 % of missing values\n",
      "admission_source_id : 0.0 % of missing values\n",
      "time_in_hospital : 0.0 % of missing values\n",
      "payer_code : 40.36 % of missing values\n",
      "medical_specialty : 47.07 % of missing values\n",
      "num_lab_procedures : 0.0 % of missing values\n",
      "num_procedures : 0.0 % of missing values\n",
      "num_medications : 0.0 % of missing values\n",
      "number_outpatient : 0.0 % of missing values\n",
      "number_emergency : 0.0 % of missing values\n",
      "number_inpatient : 0.0 % of missing values\n",
      "diag_1 : 0.01 % of missing values\n",
      "diag_2 : 0.6 % of missing values\n",
      "diag_3 : 2.05 % of missing values\n",
      "number_diagnoses : 0.0 % of missing values\n",
      "max_glu_serum : 0.0 % of missing values\n",
      "A1Cresult : 0.0 % of missing values\n",
      "Target : 0.0 % of missing values\n"
     ]
    }
   ],
   "source": [
    "for column in df.columns:\n",
    "    print(column,':',round(df[column].isnull().sum()/df.shape[0] * 100, ndigits=2),'% of missing values')"
   ]
  },
  {
   "cell_type": "code",
   "execution_count": 6,
   "metadata": {},
   "outputs": [
    {
     "data": {
      "text/plain": [
       "['encounter_id',\n",
       " 'admission_type_id',\n",
       " 'discharge_disposition_id',\n",
       " 'admission_source_id']"
      ]
     },
     "execution_count": 6,
     "metadata": {},
     "output_type": "execute_result"
    }
   ],
   "source": [
    "cols_with_id = []\n",
    "for col in df.columns:\n",
    "    if 'id' in col:\n",
    "        cols_with_id.append(col)\n",
    "\n",
    "cols_with_id"
   ]
  },
  {
   "cell_type": "code",
   "execution_count": 7,
   "metadata": {},
   "outputs": [],
   "source": [
    "df.drop(cols_with_id,inplace=True,axis=1)\n",
    "df.drop(['weight'],inplace=True,axis=1)"
   ]
  },
  {
   "cell_type": "code",
   "execution_count": 8,
   "metadata": {},
   "outputs": [
    {
     "data": {
      "text/plain": [
       "Index(['patient_nbr', 'race', 'gender', 'age', 'time_in_hospital',\n",
       "       'payer_code', 'medical_specialty', 'num_lab_procedures',\n",
       "       'num_procedures', 'num_medications', 'number_outpatient',\n",
       "       'number_emergency', 'number_inpatient', 'diag_1', 'diag_2', 'diag_3',\n",
       "       'number_diagnoses', 'max_glu_serum', 'A1Cresult', 'Target'],\n",
       "      dtype='object')"
      ]
     },
     "execution_count": 8,
     "metadata": {},
     "output_type": "execute_result"
    }
   ],
   "source": [
    "df.columns"
   ]
  },
  {
   "cell_type": "code",
   "execution_count": 9,
   "metadata": {},
   "outputs": [],
   "source": [
    "X = df.drop('Target',axis=1)\n",
    "y = df['Target']"
   ]
  },
  {
   "cell_type": "code",
   "execution_count": 10,
   "metadata": {},
   "outputs": [],
   "source": [
    "from sklearn.model_selection import train_test_split\n",
    "\n",
    "X_train, X_test, y_train, y_test = train_test_split(X, y, test_size=0.2,random_state=10)"
   ]
  },
  {
   "cell_type": "code",
   "execution_count": 11,
   "metadata": {},
   "outputs": [
    {
     "data": {
      "text/plain": [
       "patient_nbr               0\n",
       "race                    652\n",
       "gender                    0\n",
       "age                       0\n",
       "time_in_hospital          0\n",
       "payer_code             9205\n",
       "medical_specialty     10741\n",
       "num_lab_procedures        0\n",
       "num_procedures            0\n",
       "num_medications           0\n",
       "number_outpatient         0\n",
       "number_emergency          0\n",
       "number_inpatient          0\n",
       "diag_1                    3\n",
       "diag_2                  153\n",
       "diag_3                  489\n",
       "number_diagnoses          0\n",
       "max_glu_serum             0\n",
       "A1Cresult                 0\n",
       "dtype: int64"
      ]
     },
     "execution_count": 11,
     "metadata": {},
     "output_type": "execute_result"
    }
   ],
   "source": [
    "X_train.isna().sum()"
   ]
  },
  {
   "cell_type": "markdown",
   "metadata": {},
   "source": [
    "mode values can be used to impute the features race, diag1, diag2, diag3 since they have very less missing values."
   ]
  },
  {
   "cell_type": "code",
   "execution_count": 12,
   "metadata": {},
   "outputs": [],
   "source": [
    "from sklearn.impute import SimpleImputer"
   ]
  },
  {
   "cell_type": "code",
   "execution_count": 13,
   "metadata": {},
   "outputs": [],
   "source": [
    "# Training Set\n",
    "impute = SimpleImputer(missing_values = np.nan, strategy='most_frequent')\n",
    "impute.fit(X_train[['race','diag_1','diag_2','diag_3']])\n",
    "X_train[['race','diag_1','diag_2','diag_3']] = impute.transform(X_train[['race','diag_1','diag_2','diag_3']])"
   ]
  },
  {
   "cell_type": "code",
   "execution_count": 14,
   "metadata": {},
   "outputs": [],
   "source": [
    "# Test Set\n",
    "impute = SimpleImputer(missing_values = np.nan, strategy='most_frequent')\n",
    "impute.fit(X_test[['race','diag_1','diag_2','diag_3']])\n",
    "X_test[['race','diag_1','diag_2','diag_3']] = impute.transform(X_test[['race','diag_1','diag_2','diag_3']])"
   ]
  },
  {
   "cell_type": "code",
   "execution_count": 15,
   "metadata": {},
   "outputs": [
    {
     "data": {
      "text/plain": [
       "patient_nbr               0\n",
       "race                      0\n",
       "gender                    0\n",
       "age                       0\n",
       "time_in_hospital          0\n",
       "payer_code             9205\n",
       "medical_specialty     10741\n",
       "num_lab_procedures        0\n",
       "num_procedures            0\n",
       "num_medications           0\n",
       "number_outpatient         0\n",
       "number_emergency          0\n",
       "number_inpatient          0\n",
       "diag_1                    0\n",
       "diag_2                    0\n",
       "diag_3                    0\n",
       "number_diagnoses          0\n",
       "max_glu_serum             0\n",
       "A1Cresult                 0\n",
       "dtype: int64"
      ]
     },
     "execution_count": 15,
     "metadata": {},
     "output_type": "execute_result"
    }
   ],
   "source": [
    "X_train.isna().sum()"
   ]
  },
  {
   "cell_type": "code",
   "execution_count": 16,
   "metadata": {},
   "outputs": [],
   "source": [
    "X_train.drop(['payer_code','medical_specialty','patient_nbr'],axis=1,inplace=True)\n",
    "X_test.drop(['payer_code','medical_specialty','patient_nbr'],axis=1,inplace=True)"
   ]
  },
  {
   "cell_type": "code",
   "execution_count": 17,
   "metadata": {},
   "outputs": [
    {
     "data": {
      "text/plain": [
       "race                  0\n",
       "gender                0\n",
       "age                   0\n",
       "time_in_hospital      0\n",
       "num_lab_procedures    0\n",
       "num_procedures        0\n",
       "num_medications       0\n",
       "number_outpatient     0\n",
       "number_emergency      0\n",
       "number_inpatient      0\n",
       "diag_1                0\n",
       "diag_2                0\n",
       "diag_3                0\n",
       "number_diagnoses      0\n",
       "max_glu_serum         0\n",
       "A1Cresult             0\n",
       "dtype: int64"
      ]
     },
     "execution_count": 17,
     "metadata": {},
     "output_type": "execute_result"
    }
   ],
   "source": [
    "X_train.isna().sum()"
   ]
  },
  {
   "cell_type": "code",
   "execution_count": 26,
   "metadata": {},
   "outputs": [],
   "source": [
    "X_train.to_csv('X_train.csv',index=False)\n",
    "X_test.to_csv('X_test.csv',index=False)\n",
    "y_train.to_csv('y_train.csv',index=False)\n",
    "y_test.to_csv('y_test.csv',index=False)"
   ]
  },
  {
   "cell_type": "code",
   "execution_count": null,
   "metadata": {},
   "outputs": [],
   "source": []
  }
 ],
 "metadata": {
  "interpreter": {
   "hash": "274b066e0da97a5956898104b9dfdd450d2a26e18b93296a9c54d8e466633084"
  },
  "kernelspec": {
   "display_name": "Python 3.8.8 ('base')",
   "language": "python",
   "name": "python3"
  },
  "language_info": {
   "codemirror_mode": {
    "name": "ipython",
    "version": 3
   },
   "file_extension": ".py",
   "mimetype": "text/x-python",
   "name": "python",
   "nbconvert_exporter": "python",
   "pygments_lexer": "ipython3",
   "version": "3.9.7"
  },
  "orig_nbformat": 4
 },
 "nbformat": 4,
 "nbformat_minor": 2
}
