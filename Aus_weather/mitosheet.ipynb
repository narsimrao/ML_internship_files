{
 "cells": [
  {
   "cell_type": "code",
   "execution_count": null,
   "id": "a30b59f4-db65-4792-8784-0952ac07b3cf",
   "metadata": {},
   "outputs": [],
   "source": [
    "import mitosheet\n",
    "import pandas as pd\n",
    "\n",
    "df = pd.read_csv('weatherAUS.csv')\n",
    "df.head()"
   ]
  },
  {
   "cell_type": "code",
   "execution_count": 3,
   "id": "de9f8f58-022f-4f26-97b3-f51218cf2056",
   "metadata": {},
   "outputs": [
    {
     "data": {
      "application/vnd.jupyter.widget-view+json": {
       "model_id": "d70e937d794b41d29ba97b0cecc0e6ef",
       "version_major": 2,
       "version_minor": 0
      },
      "text/plain": [
       "MitoWidget(analysis_data_json='{\"analysisName\": \"UUID-9621c253-6615-4e8e-9aec-ae830095f1b9\", \"code\": {\"imports…"
      ]
     },
     "metadata": {},
     "output_type": "display_data"
    }
   ],
   "source": [
    "import mitosheet\n",
    "mitosheet.sheet(df, view_df=True)"
   ]
  },
  {
   "cell_type": "code",
   "execution_count": null,
   "id": "b25c3d6f-e0e2-4944-8781-bb8eb5902d18",
   "metadata": {},
   "outputs": [],
   "source": [
    "from mitosheet import *; register_analysis('UUID-9621c253-6615-4e8e-9aec-ae830095f1b9')\n",
    "\n",
    "# Sorted RainToday in df in ascending order\n",
    "df = df.sort_values(by='RainToday', ascending=True, na_position='first')\n",
    "\n",
    "# Filtered RainToday in df\n",
    "df = df[df['RainToday'].apply(lambda val: all(val != s for s in ['No', 'Yes']))]\n"
   ]
  }
 ],
 "metadata": {
  "kernelspec": {
   "display_name": "Python 3",
   "language": "python",
   "name": "python3"
  },
  "language_info": {
   "codemirror_mode": {
    "name": "ipython",
    "version": 3
   },
   "file_extension": ".py",
   "mimetype": "text/x-python",
   "name": "python",
   "nbconvert_exporter": "python",
   "pygments_lexer": "ipython3",
   "version": "3.8.12"
  }
 },
 "nbformat": 4,
 "nbformat_minor": 5
}
